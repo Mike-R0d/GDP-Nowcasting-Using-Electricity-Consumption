{
  "cells": [
    {
      "cell_type": "markdown",
      "metadata": {
        "id": "view-in-github",
        "colab_type": "text"
      },
      "source": [
        "<a href=\"https://colab.research.google.com/github/Mike-R0d/GDP-Nowcasting-Using-Electricity-Consumption/blob/main/Nowcasting_GDP_Using_Electricity_Consumption.ipynb\" target=\"_parent\"><img src=\"https://colab.research.google.com/assets/colab-badge.svg\" alt=\"Open In Colab\"/></a>"
      ]
    },
    {
      "cell_type": "markdown",
      "source": [
        "# **Box-Jenkins Methodology**\n",
        "---\n",
        "\n",
        "## **1. Identification**\n",
        "- **Objective**: Determine if the series is stationary and select the initial order of the ARIMA model \\((p, d, q)\\).\n",
        "- **Steps**:\n",
        "  - Plot the time series to identify patterns such as trends or seasonality.\n",
        "  - Perform stationarity tests (e.g., Augmented Dickey-Fuller test) to verify if the series is stationary.\n",
        "  - Apply transformations if necessary (differencing, logarithms, etc.) to achieve stationarity.\n",
        "  - Examine the Autocorrelation Function (ACF) and Partial Autocorrelation Function (PACF) to determine initial values for \\(p\\) and \\(q\\).\n",
        "\n",
        "---\n",
        "\n",
        "## **2. Estimation**\n",
        "- **Objective**: Estimate the parameters of the selected ARIMA model.\n",
        "- **Steps**:\n",
        "  - Test different combinations of parameters \\((p, d, q)\\).\n",
        "  - Fit the model using methods such as Maximum Likelihood Estimation.\n",
        "  - Select the model that minimizes information criteria, such as AIC (Akaike Information Criterion) or BIC (Bayesian Information Criterion).\n",
        "\n",
        "---\n",
        "\n",
        "## **3. Diagnostic Checking**\n",
        "- **Objective**: Validate the fitted model and ensure it meets the assumptions.\n",
        "- **Steps**:\n",
        "  - Analyze the residuals of the model to confirm they are white noise (independent and normally distributed).\n",
        "  - Check for significant autocorrelation in the residuals (using tests like Ljung-Box).\n",
        "  - If the model is inadequate, return to the **Identification** stage or adjust the parameters.\n",
        "\n",
        "---\n",
        "\n",
        "## **4. Forecasting**\n",
        "- **Objective**: Use the fitted model to make future predictions.\n",
        "- **Steps**:\n",
        "  - Generate forecasts based on the final model.\n",
        "  - Compute confidence intervals for the predictions.\n",
        "  - Compare predictions to actual data (if available) to evaluate model accuracy.\n",
        "\n",
        "---\n"
      ],
      "metadata": {
        "id": "hxQI51Dt4X4Z"
      },
      "id": "hxQI51Dt4X4Z"
    },
    {
      "cell_type": "markdown",
      "source": [
        "**IV. Time Series Analysis Variables:**\n",
        "\n",
        "*   `y`: Represents the dependent variable in the analysis. In this case,  GDP growth rates.\n",
        "*   `x`:  The exogenous variable, electricity growth rates, which is used to predict GDP growth.\n",
        "*    `t`: Represents the time index of data (dates).\n",
        "*   `model`:  A statistical model object (e.g., OLS or ARIMA models)\n",
        "*   `predictions`:  Predicted values from the fitted model.\n",
        "*   `residuals`:  The difference between observed (`y`) and predicted values (`predictions`).\n",
        "*   `result_elec`, `result_gdp`: Results of the Augmented Dickey-Fuller (ADF) test for stationarity of electricity growth and GDP growth, respectively.\n",
        "*   `p`, `d`, `q`: Order parameters for the ARIMA model.\n",
        "*   `best_aic`, `best_bic`, `best_order`, `best_model`: Used to keep track of the best model based on criteria like AIC and BIC, optimizing the model.\n",
        "* `bg_test`, `bg_test_arima`: Results of the Breusch-Godfrey test for autocorrelation in the residuals."
      ],
      "metadata": {
        "id": "dWF4Vyu_-FNZ"
      },
      "id": "dWF4Vyu_-FNZ"
    },
    {
      "cell_type": "code",
      "execution_count": 252,
      "id": "82eb0647",
      "metadata": {
        "id": "82eb0647"
      },
      "outputs": [],
      "source": [
        "import requests\n",
        "import urllib.request\n",
        "import time\n",
        "from urllib3.exceptions import InsecureRequestWarning\n",
        "import pandas as pd\n",
        "import datetime\n",
        "from datetime import date"
      ]
    },
    {
      "cell_type": "markdown",
      "source": [
        "# Sources"
      ],
      "metadata": {
        "id": "vwMNzK30Dxsc"
      },
      "id": "vwMNzK30Dxsc"
    },
    {
      "cell_type": "markdown",
      "source": [
        "https://www.bcrp.gob.pe/docs/Publicaciones/Documentos-de-Trabajo/2018/documento-de-trabajo-010-2018.pdf\n",
        "https://app.electricitymaps.com/zone/PE/72h/hourly\n",
        "https://estadisticas.bcrp.gob.pe/estadisticas/series/trimestrales/resultados/PN02526AQ/html\n",
        "https://www.coes.org.pe/Portal/portalinformacion/demanda?fechaInicial=01/01/2023&fechaFinal=01/01/2024\n",
        "https://app.electricitymaps.com/zone/PE/72h/hourly"
      ],
      "metadata": {
        "id": "RoY2NbxkDpR_"
      },
      "id": "RoY2NbxkDpR_"
    },
    {
      "cell_type": "markdown",
      "source": [
        "## Electricity Demand\n",
        "\n",
        "\n",
        "---\n",
        "\n"
      ],
      "metadata": {
        "id": "HPhAT6R8X8mz"
      },
      "id": "HPhAT6R8X8mz"
    },
    {
      "cell_type": "code",
      "source": [
        "import requests\n",
        "import pandas as pd\n",
        "import plotly.graph_objects as go\n",
        "from IPython.display import Image\n",
        "\n",
        "def fetch_energy_data():\n",
        "    # Create a requests session\n",
        "    sess = requests.Session()\n",
        "\n",
        "    # Construct the URL without dates\n",
        "    url = \"https://www.coes.org.pe/Portal/portalinformacion/demanda\"\n",
        "\n",
        "    # Make the request\n",
        "    r = sess.post(url)\n",
        "\n",
        "    # Debugging: print the raw response\n",
        "    # print(\"Raw Response:\", r.text[:500])  # Print the first 500 characters of the response for debugging\n",
        "\n",
        "    # Ensure valid JSON response\n",
        "    try:\n",
        "        datos = r.json()\n",
        "        data = datos.get('Data', [])\n",
        "\n",
        "        # Debugging: print the content of `data`\n",
        "        # print(\"Data Content:\", data[:5])  # Print the first 5 entries for debugging\n",
        "    except Exception as e:\n",
        "        raise ValueError(f\"Failed to parse JSON from the response. Error: {e}, Response: {r.text[:500]}\")\n",
        "\n",
        "    # Create DataFrame\n",
        "    df = pd.DataFrame(data)\n",
        "    df = df.rename(columns={\n",
        "        'Fecha': 'Date',\n",
        "        'ValorEjecutado': 'Executed',\n",
        "        'ValorProgramacionDiaria': 'Daily Prog.',\n",
        "        'ValorProgramacionSemanal': 'Weekly Prog.'\n",
        "    })\n",
        "\n",
        "    # Convert the 'Date' column to datetime\n",
        "    df['Date'] = pd.to_datetime(df['Date'], errors='coerce')\n",
        "    df = df.dropna(subset=['Date'])  # Drop rows with invalid dates\n",
        "    return df\n",
        "\n",
        "# Fetch the data\n",
        "df = fetch_energy_data()"
      ],
      "metadata": {
        "id": "U0h7UaOHNob4"
      },
      "id": "U0h7UaOHNob4",
      "execution_count": 253,
      "outputs": []
    },
    {
      "cell_type": "code",
      "source": [
        "# Add traces for each data series\n",
        "fig = go.Figure()  # Initialize the figure\n",
        "fig.add_trace(go.Scatter(x=df['Date'], y=df['Executed'], mode='lines', name='Executed', line=dict(color='blue', width=2)))\n",
        "fig.add_trace(go.Scatter(x=df['Date'], y=df['Daily Prog.'], mode='lines', name='Daily Prog.', line=dict(color='green', dash='dash')))\n",
        "fig.add_trace(go.Scatter(x=df['Date'], y=df['Weekly Prog.'], mode='lines', name='Weekly Prog.', line=dict(color='red', dash='dot')))\n",
        "\n",
        "# Update layout with plotly_dark template\n",
        "fig.update_layout(\n",
        "    title=\"Electricity Demand\",\n",
        "    xaxis_title=\"Date\",\n",
        "    yaxis_title=\"MW\",\n",
        "    legend_title=\"Legend\",\n",
        "    template=\"plotly_white\",  # Use plotly_white template\n",
        "    xaxis=dict(showgrid=False),\n",
        "    yaxis=dict(showgrid=False),\n",
        "    margin=dict(l=40, r=40, t=40, b=40)\n",
        ")"
      ],
      "metadata": {
        "colab": {
          "base_uri": "https://localhost:8080/",
          "height": 542
        },
        "id": "K1To12CBtZNB",
        "outputId": "8b198f7e-622a-480c-f6d9-d8d4f6075b3a"
      },
      "id": "K1To12CBtZNB",
      "execution_count": 254,
      "outputs": [
        {
          "output_type": "display_data",
          "data": {
            "text/html": [
              "<html>\n",
              "<head><meta charset=\"utf-8\" /></head>\n",
              "<body>\n",
              "    <div>            <script src=\"https://cdnjs.cloudflare.com/ajax/libs/mathjax/2.7.5/MathJax.js?config=TeX-AMS-MML_SVG\"></script><script type=\"text/javascript\">if (window.MathJax && window.MathJax.Hub && window.MathJax.Hub.Config) {window.MathJax.Hub.Config({SVG: {font: \"STIX-Web\"}});}</script>                <script type=\"text/javascript\">window.PlotlyConfig = {MathJaxConfig: 'local'};</script>\n",
              "        <script charset=\"utf-8\" src=\"https://cdn.plot.ly/plotly-2.35.2.min.js\"></script>                <div id=\"57223fb2-fddb-4b7f-ada8-935e698f0331\" class=\"plotly-graph-div\" style=\"height:525px; width:100%;\"></div>            <script type=\"text/javascript\">                                    window.PLOTLYENV=window.PLOTLYENV || {};                                    if (document.getElementById(\"57223fb2-fddb-4b7f-ada8-935e698f0331\")) {                    Plotly.newPlot(                        \"57223fb2-fddb-4b7f-ada8-935e698f0331\",                        [{\"line\":{\"color\":\"blue\",\"width\":2},\"mode\":\"lines\",\"name\":\"Executed\",\"x\":[\"2025-01-24T00:30:00\",\"2025-01-24T01:00:00\",\"2025-01-24T01:30:00\",\"2025-01-24T02:00:00\",\"2025-01-24T02:30:00\",\"2025-01-24T03:00:00\",\"2025-01-24T03:30:00\",\"2025-01-24T04:00:00\",\"2025-01-24T04:30:00\",\"2025-01-24T05:00:00\",\"2025-01-24T05:30:00\",\"2025-01-24T06:00:00\",\"2025-01-24T06:30:00\",\"2025-01-24T07:00:00\",\"2025-01-24T07:30:00\",\"2025-01-24T08:00:00\",\"2025-01-24T08:30:00\",\"2025-01-24T09:00:00\",\"2025-01-24T09:30:00\",\"2025-01-24T10:00:00\",\"2025-01-24T10:30:00\",\"2025-01-24T11:00:00\",\"2025-01-24T11:30:00\",\"2025-01-24T12:00:00\",\"2025-01-24T12:30:00\",\"2025-01-24T13:00:00\",\"2025-01-24T13:30:00\",\"2025-01-24T14:00:00\",\"2025-01-24T14:30:00\",\"2025-01-24T15:00:00\",\"2025-01-24T15:30:00\",\"2025-01-24T16:00:00\",\"2025-01-24T16:30:00\",\"2025-01-24T17:00:00\",\"2025-01-24T17:30:00\",\"2025-01-24T18:00:00\",\"2025-01-24T18:30:00\",\"2025-01-24T19:00:00\",\"2025-01-24T19:30:00\",\"2025-01-24T20:00:00\",\"2025-01-24T20:30:00\",\"2025-01-24T21:00:00\",\"2025-01-24T21:30:00\",\"2025-01-24T22:00:00\",\"2025-01-24T22:30:00\",\"2025-01-24T23:00:00\",\"2025-01-24T23:30:00\",\"2025-01-25T00:00:00\"],\"y\":[6978.0,6731.35,6592.5,6523.86,6496.0,6583.92,6480.56,6480.46,6516.08,6565.72,6639.05,6621.56,6679.51,6645.53,7002.22,7209.85,7468.21,7560.9,7770.09,7868.44,7930.59,8001.52,8033.04,8100.67,8036.85,7903.8,7936.93,7825.58,7892.66,7833.27,7910.35,7921.57,7781.37,null,null,null,null,null,null,null,null,null,null,null,null,null,null,null],\"type\":\"scatter\"},{\"line\":{\"color\":\"green\",\"dash\":\"dash\"},\"mode\":\"lines\",\"name\":\"Daily Prog.\",\"x\":[\"2025-01-24T00:30:00\",\"2025-01-24T01:00:00\",\"2025-01-24T01:30:00\",\"2025-01-24T02:00:00\",\"2025-01-24T02:30:00\",\"2025-01-24T03:00:00\",\"2025-01-24T03:30:00\",\"2025-01-24T04:00:00\",\"2025-01-24T04:30:00\",\"2025-01-24T05:00:00\",\"2025-01-24T05:30:00\",\"2025-01-24T06:00:00\",\"2025-01-24T06:30:00\",\"2025-01-24T07:00:00\",\"2025-01-24T07:30:00\",\"2025-01-24T08:00:00\",\"2025-01-24T08:30:00\",\"2025-01-24T09:00:00\",\"2025-01-24T09:30:00\",\"2025-01-24T10:00:00\",\"2025-01-24T10:30:00\",\"2025-01-24T11:00:00\",\"2025-01-24T11:30:00\",\"2025-01-24T12:00:00\",\"2025-01-24T12:30:00\",\"2025-01-24T13:00:00\",\"2025-01-24T13:30:00\",\"2025-01-24T14:00:00\",\"2025-01-24T14:30:00\",\"2025-01-24T15:00:00\",\"2025-01-24T15:30:00\",\"2025-01-24T16:00:00\",\"2025-01-24T16:30:00\",\"2025-01-24T17:00:00\",\"2025-01-24T17:30:00\",\"2025-01-24T18:00:00\",\"2025-01-24T18:30:00\",\"2025-01-24T19:00:00\",\"2025-01-24T19:30:00\",\"2025-01-24T20:00:00\",\"2025-01-24T20:30:00\",\"2025-01-24T21:00:00\",\"2025-01-24T21:30:00\",\"2025-01-24T22:00:00\",\"2025-01-24T22:30:00\",\"2025-01-24T23:00:00\",\"2025-01-24T23:30:00\",\"2025-01-25T00:00:00\"],\"y\":[6884.19529,6753.14358,6671.49256,6573.39076,6538.10092,6501.64586,6481.36906,6474.14204,6486.05612,6530.24599,6614.03074,6572.7311,6640.91076,6740.33243,7080.18375,7215.05036,7460.64869,7603.04834,7805.08395,7912.38189,7935.6915,7997.16099,8057.04212,8091.01668,8045.8932,8039.0747,7980.10812,8016.33106,8109.54594,8123.9666,8112.30715,8136.88583,8032.53112,7882.2161,7638.90877,7434.55707,7362.60202,7709.69864,7812.01282,7797.01188,7741.03083,7674.28628,7678.26046,7563.17342,7476.47363,7313.64336,7176.00709,7004.91178],\"type\":\"scatter\"},{\"line\":{\"color\":\"red\",\"dash\":\"dot\"},\"mode\":\"lines\",\"name\":\"Weekly Prog.\",\"x\":[\"2025-01-24T00:30:00\",\"2025-01-24T01:00:00\",\"2025-01-24T01:30:00\",\"2025-01-24T02:00:00\",\"2025-01-24T02:30:00\",\"2025-01-24T03:00:00\",\"2025-01-24T03:30:00\",\"2025-01-24T04:00:00\",\"2025-01-24T04:30:00\",\"2025-01-24T05:00:00\",\"2025-01-24T05:30:00\",\"2025-01-24T06:00:00\",\"2025-01-24T06:30:00\",\"2025-01-24T07:00:00\",\"2025-01-24T07:30:00\",\"2025-01-24T08:00:00\",\"2025-01-24T08:30:00\",\"2025-01-24T09:00:00\",\"2025-01-24T09:30:00\",\"2025-01-24T10:00:00\",\"2025-01-24T10:30:00\",\"2025-01-24T11:00:00\",\"2025-01-24T11:30:00\",\"2025-01-24T12:00:00\",\"2025-01-24T12:30:00\",\"2025-01-24T13:00:00\",\"2025-01-24T13:30:00\",\"2025-01-24T14:00:00\",\"2025-01-24T14:30:00\",\"2025-01-24T15:00:00\",\"2025-01-24T15:30:00\",\"2025-01-24T16:00:00\",\"2025-01-24T16:30:00\",\"2025-01-24T17:00:00\",\"2025-01-24T17:30:00\",\"2025-01-24T18:00:00\",\"2025-01-24T18:30:00\",\"2025-01-24T19:00:00\",\"2025-01-24T19:30:00\",\"2025-01-24T20:00:00\",\"2025-01-24T20:30:00\",\"2025-01-24T21:00:00\",\"2025-01-24T21:30:00\",\"2025-01-24T22:00:00\",\"2025-01-24T22:30:00\",\"2025-01-24T23:00:00\",\"2025-01-24T23:30:00\",\"2025-01-25T00:00:00\"],\"y\":[6776.70297,6776.70297,6583.24619,6583.24619,6472.72119,6472.72119,6433.15919,6433.15919,6473.53796,6473.53796,6547.82822,6547.82822,6668.11555,6668.11555,7015.47881,7015.47881,7423.11614,7423.11614,7689.19265,7689.19265,7837.66923,7837.66923,7944.66922,7944.66922,7882.35277,7882.35277,7807.00469,7807.00469,7945.63496,7945.63496,7921.52358,7921.52358,7789.27129,7789.27129,7467.93322,7467.93322,7472.28272,7472.28272,7665.76689,7665.76689,7592.75876,7592.75876,7531.64052,7531.64052,7394.49223,7394.49223,7044.24133,7044.24133],\"type\":\"scatter\"}],                        {\"template\":{\"data\":{\"barpolar\":[{\"marker\":{\"line\":{\"color\":\"white\",\"width\":0.5},\"pattern\":{\"fillmode\":\"overlay\",\"size\":10,\"solidity\":0.2}},\"type\":\"barpolar\"}],\"bar\":[{\"error_x\":{\"color\":\"#2a3f5f\"},\"error_y\":{\"color\":\"#2a3f5f\"},\"marker\":{\"line\":{\"color\":\"white\",\"width\":0.5},\"pattern\":{\"fillmode\":\"overlay\",\"size\":10,\"solidity\":0.2}},\"type\":\"bar\"}],\"carpet\":[{\"aaxis\":{\"endlinecolor\":\"#2a3f5f\",\"gridcolor\":\"#C8D4E3\",\"linecolor\":\"#C8D4E3\",\"minorgridcolor\":\"#C8D4E3\",\"startlinecolor\":\"#2a3f5f\"},\"baxis\":{\"endlinecolor\":\"#2a3f5f\",\"gridcolor\":\"#C8D4E3\",\"linecolor\":\"#C8D4E3\",\"minorgridcolor\":\"#C8D4E3\",\"startlinecolor\":\"#2a3f5f\"},\"type\":\"carpet\"}],\"choropleth\":[{\"colorbar\":{\"outlinewidth\":0,\"ticks\":\"\"},\"type\":\"choropleth\"}],\"contourcarpet\":[{\"colorbar\":{\"outlinewidth\":0,\"ticks\":\"\"},\"type\":\"contourcarpet\"}],\"contour\":[{\"colorbar\":{\"outlinewidth\":0,\"ticks\":\"\"},\"colorscale\":[[0.0,\"#0d0887\"],[0.1111111111111111,\"#46039f\"],[0.2222222222222222,\"#7201a8\"],[0.3333333333333333,\"#9c179e\"],[0.4444444444444444,\"#bd3786\"],[0.5555555555555556,\"#d8576b\"],[0.6666666666666666,\"#ed7953\"],[0.7777777777777778,\"#fb9f3a\"],[0.8888888888888888,\"#fdca26\"],[1.0,\"#f0f921\"]],\"type\":\"contour\"}],\"heatmapgl\":[{\"colorbar\":{\"outlinewidth\":0,\"ticks\":\"\"},\"colorscale\":[[0.0,\"#0d0887\"],[0.1111111111111111,\"#46039f\"],[0.2222222222222222,\"#7201a8\"],[0.3333333333333333,\"#9c179e\"],[0.4444444444444444,\"#bd3786\"],[0.5555555555555556,\"#d8576b\"],[0.6666666666666666,\"#ed7953\"],[0.7777777777777778,\"#fb9f3a\"],[0.8888888888888888,\"#fdca26\"],[1.0,\"#f0f921\"]],\"type\":\"heatmapgl\"}],\"heatmap\":[{\"colorbar\":{\"outlinewidth\":0,\"ticks\":\"\"},\"colorscale\":[[0.0,\"#0d0887\"],[0.1111111111111111,\"#46039f\"],[0.2222222222222222,\"#7201a8\"],[0.3333333333333333,\"#9c179e\"],[0.4444444444444444,\"#bd3786\"],[0.5555555555555556,\"#d8576b\"],[0.6666666666666666,\"#ed7953\"],[0.7777777777777778,\"#fb9f3a\"],[0.8888888888888888,\"#fdca26\"],[1.0,\"#f0f921\"]],\"type\":\"heatmap\"}],\"histogram2dcontour\":[{\"colorbar\":{\"outlinewidth\":0,\"ticks\":\"\"},\"colorscale\":[[0.0,\"#0d0887\"],[0.1111111111111111,\"#46039f\"],[0.2222222222222222,\"#7201a8\"],[0.3333333333333333,\"#9c179e\"],[0.4444444444444444,\"#bd3786\"],[0.5555555555555556,\"#d8576b\"],[0.6666666666666666,\"#ed7953\"],[0.7777777777777778,\"#fb9f3a\"],[0.8888888888888888,\"#fdca26\"],[1.0,\"#f0f921\"]],\"type\":\"histogram2dcontour\"}],\"histogram2d\":[{\"colorbar\":{\"outlinewidth\":0,\"ticks\":\"\"},\"colorscale\":[[0.0,\"#0d0887\"],[0.1111111111111111,\"#46039f\"],[0.2222222222222222,\"#7201a8\"],[0.3333333333333333,\"#9c179e\"],[0.4444444444444444,\"#bd3786\"],[0.5555555555555556,\"#d8576b\"],[0.6666666666666666,\"#ed7953\"],[0.7777777777777778,\"#fb9f3a\"],[0.8888888888888888,\"#fdca26\"],[1.0,\"#f0f921\"]],\"type\":\"histogram2d\"}],\"histogram\":[{\"marker\":{\"pattern\":{\"fillmode\":\"overlay\",\"size\":10,\"solidity\":0.2}},\"type\":\"histogram\"}],\"mesh3d\":[{\"colorbar\":{\"outlinewidth\":0,\"ticks\":\"\"},\"type\":\"mesh3d\"}],\"parcoords\":[{\"line\":{\"colorbar\":{\"outlinewidth\":0,\"ticks\":\"\"}},\"type\":\"parcoords\"}],\"pie\":[{\"automargin\":true,\"type\":\"pie\"}],\"scatter3d\":[{\"line\":{\"colorbar\":{\"outlinewidth\":0,\"ticks\":\"\"}},\"marker\":{\"colorbar\":{\"outlinewidth\":0,\"ticks\":\"\"}},\"type\":\"scatter3d\"}],\"scattercarpet\":[{\"marker\":{\"colorbar\":{\"outlinewidth\":0,\"ticks\":\"\"}},\"type\":\"scattercarpet\"}],\"scattergeo\":[{\"marker\":{\"colorbar\":{\"outlinewidth\":0,\"ticks\":\"\"}},\"type\":\"scattergeo\"}],\"scattergl\":[{\"marker\":{\"colorbar\":{\"outlinewidth\":0,\"ticks\":\"\"}},\"type\":\"scattergl\"}],\"scattermapbox\":[{\"marker\":{\"colorbar\":{\"outlinewidth\":0,\"ticks\":\"\"}},\"type\":\"scattermapbox\"}],\"scatterpolargl\":[{\"marker\":{\"colorbar\":{\"outlinewidth\":0,\"ticks\":\"\"}},\"type\":\"scatterpolargl\"}],\"scatterpolar\":[{\"marker\":{\"colorbar\":{\"outlinewidth\":0,\"ticks\":\"\"}},\"type\":\"scatterpolar\"}],\"scatter\":[{\"fillpattern\":{\"fillmode\":\"overlay\",\"size\":10,\"solidity\":0.2},\"type\":\"scatter\"}],\"scatterternary\":[{\"marker\":{\"colorbar\":{\"outlinewidth\":0,\"ticks\":\"\"}},\"type\":\"scatterternary\"}],\"surface\":[{\"colorbar\":{\"outlinewidth\":0,\"ticks\":\"\"},\"colorscale\":[[0.0,\"#0d0887\"],[0.1111111111111111,\"#46039f\"],[0.2222222222222222,\"#7201a8\"],[0.3333333333333333,\"#9c179e\"],[0.4444444444444444,\"#bd3786\"],[0.5555555555555556,\"#d8576b\"],[0.6666666666666666,\"#ed7953\"],[0.7777777777777778,\"#fb9f3a\"],[0.8888888888888888,\"#fdca26\"],[1.0,\"#f0f921\"]],\"type\":\"surface\"}],\"table\":[{\"cells\":{\"fill\":{\"color\":\"#EBF0F8\"},\"line\":{\"color\":\"white\"}},\"header\":{\"fill\":{\"color\":\"#C8D4E3\"},\"line\":{\"color\":\"white\"}},\"type\":\"table\"}]},\"layout\":{\"annotationdefaults\":{\"arrowcolor\":\"#2a3f5f\",\"arrowhead\":0,\"arrowwidth\":1},\"autotypenumbers\":\"strict\",\"coloraxis\":{\"colorbar\":{\"outlinewidth\":0,\"ticks\":\"\"}},\"colorscale\":{\"diverging\":[[0,\"#8e0152\"],[0.1,\"#c51b7d\"],[0.2,\"#de77ae\"],[0.3,\"#f1b6da\"],[0.4,\"#fde0ef\"],[0.5,\"#f7f7f7\"],[0.6,\"#e6f5d0\"],[0.7,\"#b8e186\"],[0.8,\"#7fbc41\"],[0.9,\"#4d9221\"],[1,\"#276419\"]],\"sequential\":[[0.0,\"#0d0887\"],[0.1111111111111111,\"#46039f\"],[0.2222222222222222,\"#7201a8\"],[0.3333333333333333,\"#9c179e\"],[0.4444444444444444,\"#bd3786\"],[0.5555555555555556,\"#d8576b\"],[0.6666666666666666,\"#ed7953\"],[0.7777777777777778,\"#fb9f3a\"],[0.8888888888888888,\"#fdca26\"],[1.0,\"#f0f921\"]],\"sequentialminus\":[[0.0,\"#0d0887\"],[0.1111111111111111,\"#46039f\"],[0.2222222222222222,\"#7201a8\"],[0.3333333333333333,\"#9c179e\"],[0.4444444444444444,\"#bd3786\"],[0.5555555555555556,\"#d8576b\"],[0.6666666666666666,\"#ed7953\"],[0.7777777777777778,\"#fb9f3a\"],[0.8888888888888888,\"#fdca26\"],[1.0,\"#f0f921\"]]},\"colorway\":[\"#636efa\",\"#EF553B\",\"#00cc96\",\"#ab63fa\",\"#FFA15A\",\"#19d3f3\",\"#FF6692\",\"#B6E880\",\"#FF97FF\",\"#FECB52\"],\"font\":{\"color\":\"#2a3f5f\"},\"geo\":{\"bgcolor\":\"white\",\"lakecolor\":\"white\",\"landcolor\":\"white\",\"showlakes\":true,\"showland\":true,\"subunitcolor\":\"#C8D4E3\"},\"hoverlabel\":{\"align\":\"left\"},\"hovermode\":\"closest\",\"mapbox\":{\"style\":\"light\"},\"paper_bgcolor\":\"white\",\"plot_bgcolor\":\"white\",\"polar\":{\"angularaxis\":{\"gridcolor\":\"#EBF0F8\",\"linecolor\":\"#EBF0F8\",\"ticks\":\"\"},\"bgcolor\":\"white\",\"radialaxis\":{\"gridcolor\":\"#EBF0F8\",\"linecolor\":\"#EBF0F8\",\"ticks\":\"\"}},\"scene\":{\"xaxis\":{\"backgroundcolor\":\"white\",\"gridcolor\":\"#DFE8F3\",\"gridwidth\":2,\"linecolor\":\"#EBF0F8\",\"showbackground\":true,\"ticks\":\"\",\"zerolinecolor\":\"#EBF0F8\"},\"yaxis\":{\"backgroundcolor\":\"white\",\"gridcolor\":\"#DFE8F3\",\"gridwidth\":2,\"linecolor\":\"#EBF0F8\",\"showbackground\":true,\"ticks\":\"\",\"zerolinecolor\":\"#EBF0F8\"},\"zaxis\":{\"backgroundcolor\":\"white\",\"gridcolor\":\"#DFE8F3\",\"gridwidth\":2,\"linecolor\":\"#EBF0F8\",\"showbackground\":true,\"ticks\":\"\",\"zerolinecolor\":\"#EBF0F8\"}},\"shapedefaults\":{\"line\":{\"color\":\"#2a3f5f\"}},\"ternary\":{\"aaxis\":{\"gridcolor\":\"#DFE8F3\",\"linecolor\":\"#A2B1C6\",\"ticks\":\"\"},\"baxis\":{\"gridcolor\":\"#DFE8F3\",\"linecolor\":\"#A2B1C6\",\"ticks\":\"\"},\"bgcolor\":\"white\",\"caxis\":{\"gridcolor\":\"#DFE8F3\",\"linecolor\":\"#A2B1C6\",\"ticks\":\"\"}},\"title\":{\"x\":0.05},\"xaxis\":{\"automargin\":true,\"gridcolor\":\"#EBF0F8\",\"linecolor\":\"#EBF0F8\",\"ticks\":\"\",\"title\":{\"standoff\":15},\"zerolinecolor\":\"#EBF0F8\",\"zerolinewidth\":2},\"yaxis\":{\"automargin\":true,\"gridcolor\":\"#EBF0F8\",\"linecolor\":\"#EBF0F8\",\"ticks\":\"\",\"title\":{\"standoff\":15},\"zerolinecolor\":\"#EBF0F8\",\"zerolinewidth\":2}}},\"xaxis\":{\"title\":{\"text\":\"Date\"},\"showgrid\":false},\"yaxis\":{\"title\":{\"text\":\"MW\"},\"showgrid\":false},\"margin\":{\"l\":40,\"r\":40,\"t\":40,\"b\":40},\"title\":{\"text\":\"Electricity Demand\"},\"legend\":{\"title\":{\"text\":\"Legend\"}}},                        {\"responsive\": true}                    ).then(function(){\n",
              "                            \n",
              "var gd = document.getElementById('57223fb2-fddb-4b7f-ada8-935e698f0331');\n",
              "var x = new MutationObserver(function (mutations, observer) {{\n",
              "        var display = window.getComputedStyle(gd).display;\n",
              "        if (!display || display === 'none') {{\n",
              "            console.log([gd, 'removed!']);\n",
              "            Plotly.purge(gd);\n",
              "            observer.disconnect();\n",
              "        }}\n",
              "}});\n",
              "\n",
              "// Listen for the removal of the full notebook cells\n",
              "var notebookContainer = gd.closest('#notebook-container');\n",
              "if (notebookContainer) {{\n",
              "    x.observe(notebookContainer, {childList: true});\n",
              "}}\n",
              "\n",
              "// Listen for the clearing of the current output cell\n",
              "var outputEl = gd.closest('.output');\n",
              "if (outputEl) {{\n",
              "    x.observe(outputEl, {childList: true});\n",
              "}}\n",
              "\n",
              "                        })                };                            </script>        </div>\n",
              "</body>\n",
              "</html>"
            ]
          },
          "metadata": {}
        }
      ]
    },
    {
      "cell_type": "markdown",
      "source": [
        "## Electricity Demand"
      ],
      "metadata": {
        "id": "QIh90w7LtE_R"
      },
      "id": "QIh90w7LtE_R"
    },
    {
      "cell_type": "markdown",
      "source": [
        "##Identification\n",
        "---"
      ],
      "metadata": {
        "id": "m5qjxo6xBmI-"
      },
      "id": "m5qjxo6xBmI-"
    },
    {
      "cell_type": "markdown",
      "id": "55eb2d08",
      "metadata": {
        "id": "55eb2d08"
      },
      "source": [
        "###Pre-processing\n"
      ]
    },
    {
      "cell_type": "code",
      "execution_count": 255,
      "id": "8b356b74",
      "metadata": {
        "colab": {
          "base_uri": "https://localhost:8080/"
        },
        "id": "8b356b74",
        "outputId": "96d06900-f6d6-4474-e2f6-2cea263f897d"
      },
      "outputs": [
        {
          "output_type": "stream",
          "name": "stdout",
          "text": [
            "Drive already mounted at /content/drive; to attempt to forcibly remount, call drive.mount(\"/content/drive\", force_remount=True).\n"
          ]
        }
      ],
      "source": [
        "import pandas as pd\n",
        "from google.colab import drive\n",
        "drive.mount('/content/drive')\n",
        "\n",
        "pd.options.display.float_format = '{:,.2f}'.format\n",
        "file_path1 = '/content/drive/My Drive/Portfolio/GPD_Electrical_Consuption/DB_economic_activity.xlsx' # Replace with your actual file path\n",
        "file_path2 = '/content/drive/My Drive/Portfolio/GPD_Electrical_Consuption/DB_electricity.xlsx' # Replace with your actual file path\n",
        "\n",
        "pd.options.display.float_format = '{:,.2f}'.format\n",
        "df_electricity = pd.read_excel(file_path2)\n",
        "df_electricity.set_index('Date',inplace=True)\n",
        "df_electricity = df_electricity[['Ejecutado']]\n",
        "df_electricity.rename(columns = {'Ejecutado':'Electricity'}, inplace = True)\n",
        "\n",
        "df_elect = df_electricity.copy()\n",
        "df_elect = df_elect.resample('Q').sum()\n",
        "df_elect = df_elect.pct_change(4).shift(0)\n",
        "df_elect = df_elect.ffill()*100\n",
        "\n",
        "df_gdp = pd.read_excel(file_path1)\n",
        "df_gdp.set_index('Date',inplace=True)\n",
        "df_gdp = df_gdp[['PN02526AQ']]\n",
        "\n",
        "df_merge = pd.merge(df_elect,df_gdp,left_on='Date',right_on='Date')\n",
        "df_merge.rename(columns = {'Electricity':'Elect_Growth'}, inplace = True)\n",
        "df_merge.rename(columns = {'PN02526AQ':'GDP'}, inplace = True)\n",
        "df_merge['Diff'] = df_merge['Elect_Growth'] - df_merge['GDP']\n",
        "df_merge = df_merge.loc[df_merge.index >= '2007-09-01']\n",
        "df_merge = df_merge.loc[df_merge.index <= '2024-09-30']"
      ]
    },
    {
      "cell_type": "code",
      "execution_count": 256,
      "id": "2ff1197d",
      "metadata": {
        "id": "2ff1197d",
        "colab": {
          "base_uri": "https://localhost:8080/",
          "height": 542
        },
        "outputId": "df96ff62-5094-4643-987c-a4213d7ad78e"
      },
      "outputs": [
        {
          "output_type": "display_data",
          "data": {
            "text/html": [
              "<html>\n",
              "<head><meta charset=\"utf-8\" /></head>\n",
              "<body>\n",
              "    <div>            <script src=\"https://cdnjs.cloudflare.com/ajax/libs/mathjax/2.7.5/MathJax.js?config=TeX-AMS-MML_SVG\"></script><script type=\"text/javascript\">if (window.MathJax && window.MathJax.Hub && window.MathJax.Hub.Config) {window.MathJax.Hub.Config({SVG: {font: \"STIX-Web\"}});}</script>                <script type=\"text/javascript\">window.PlotlyConfig = {MathJaxConfig: 'local'};</script>\n",
              "        <script charset=\"utf-8\" src=\"https://cdn.plot.ly/plotly-2.35.2.min.js\"></script>                <div id=\"cb84d88e-8ab1-4e7e-b7c7-41445733fde5\" class=\"plotly-graph-div\" style=\"height:525px; width:100%;\"></div>            <script type=\"text/javascript\">                                    window.PLOTLYENV=window.PLOTLYENV || {};                                    if (document.getElementById(\"cb84d88e-8ab1-4e7e-b7c7-41445733fde5\")) {                    Plotly.newPlot(                        \"cb84d88e-8ab1-4e7e-b7c7-41445733fde5\",                        [{\"name\":\"GDP Growth rate\",\"x\":[\"2007-09-30T00:00:00\",\"2007-12-31T00:00:00\",\"2008-03-31T00:00:00\",\"2008-06-30T00:00:00\",\"2008-09-30T00:00:00\",\"2008-12-31T00:00:00\",\"2009-03-31T00:00:00\",\"2009-06-30T00:00:00\",\"2009-09-30T00:00:00\",\"2009-12-31T00:00:00\",\"2010-03-31T00:00:00\",\"2010-06-30T00:00:00\",\"2010-09-30T00:00:00\",\"2010-12-31T00:00:00\",\"2011-03-31T00:00:00\",\"2011-06-30T00:00:00\",\"2011-09-30T00:00:00\",\"2011-12-31T00:00:00\",\"2012-03-31T00:00:00\",\"2012-06-30T00:00:00\",\"2012-09-30T00:00:00\",\"2012-12-31T00:00:00\",\"2013-03-31T00:00:00\",\"2013-06-30T00:00:00\",\"2013-09-30T00:00:00\",\"2013-12-31T00:00:00\",\"2014-03-31T00:00:00\",\"2014-06-30T00:00:00\",\"2014-09-30T00:00:00\",\"2014-12-31T00:00:00\",\"2015-03-31T00:00:00\",\"2015-06-30T00:00:00\",\"2015-09-30T00:00:00\",\"2015-12-31T00:00:00\",\"2016-03-31T00:00:00\",\"2016-06-30T00:00:00\",\"2016-09-30T00:00:00\",\"2016-12-31T00:00:00\",\"2017-03-31T00:00:00\",\"2017-06-30T00:00:00\",\"2017-09-30T00:00:00\",\"2017-12-31T00:00:00\",\"2018-03-31T00:00:00\",\"2018-06-30T00:00:00\",\"2018-09-30T00:00:00\",\"2018-12-31T00:00:00\",\"2019-03-31T00:00:00\",\"2019-06-30T00:00:00\",\"2019-09-30T00:00:00\",\"2019-12-31T00:00:00\",\"2020-03-31T00:00:00\",\"2020-06-30T00:00:00\",\"2020-09-30T00:00:00\",\"2020-12-31T00:00:00\",\"2021-03-31T00:00:00\",\"2021-06-30T00:00:00\",\"2021-09-30T00:00:00\",\"2021-12-31T00:00:00\",\"2022-03-31T00:00:00\",\"2022-06-30T00:00:00\",\"2022-09-30T00:00:00\",\"2022-12-31T00:00:00\",\"2023-03-31T00:00:00\",\"2023-06-30T00:00:00\",\"2023-09-30T00:00:00\",\"2023-12-31T00:00:00\",\"2024-03-31T00:00:00\",\"2024-06-30T00:00:00\",\"2024-09-30T00:00:00\"],\"y\":[10.84158416,11.42435818,10.14555362,10.53228951,9.579498402,6.484208604,2.594043983,-0.733583673,-0.10054479,2.728255331,5.482427184,9.415315464,9.569320606,8.667805338,8.413848901,5.284628592,5.811549511,6.014240397,6.110652705,5.894266942,7.020488315,5.556921084,4.978087957,6.263889574,5.226645464,6.844359568,4.955895437,1.959439128,1.823199583,1.067684337,1.928718024,3.173985246,3.155730112,4.621146887,4.487465016,3.743442463,4.611851767,3.054750187,2.295453486,2.643682434,2.807402115,2.322655595,3.127698227,5.588729188,2.477586936,4.651280018,2.436271553,1.169576152,3.363625765,2.006436132,-3.927511997,-29.93635305,-8.820077879,-1.349605818,4.505739307,42.035076,11.62550311,3.427048485,3.838234033,3.4173363012217,2.04958596750706,2.01492829502384,-0.134584907481559,-0.462385158837459,-0.683925853878113,-0.317168720204458,1.40817412474265,3.63270283967193,3.80365599443122],\"type\":\"scatter\",\"xaxis\":\"x\",\"yaxis\":\"y2\"},{\"name\":\"Electricity growth rate\",\"x\":[\"2007-09-30T00:00:00\",\"2007-12-31T00:00:00\",\"2008-03-31T00:00:00\",\"2008-06-30T00:00:00\",\"2008-09-30T00:00:00\",\"2008-12-31T00:00:00\",\"2009-03-31T00:00:00\",\"2009-06-30T00:00:00\",\"2009-09-30T00:00:00\",\"2009-12-31T00:00:00\",\"2010-03-31T00:00:00\",\"2010-06-30T00:00:00\",\"2010-09-30T00:00:00\",\"2010-12-31T00:00:00\",\"2011-03-31T00:00:00\",\"2011-06-30T00:00:00\",\"2011-09-30T00:00:00\",\"2011-12-31T00:00:00\",\"2012-03-31T00:00:00\",\"2012-06-30T00:00:00\",\"2012-09-30T00:00:00\",\"2012-12-31T00:00:00\",\"2013-03-31T00:00:00\",\"2013-06-30T00:00:00\",\"2013-09-30T00:00:00\",\"2013-12-31T00:00:00\",\"2014-03-31T00:00:00\",\"2014-06-30T00:00:00\",\"2014-09-30T00:00:00\",\"2014-12-31T00:00:00\",\"2015-03-31T00:00:00\",\"2015-06-30T00:00:00\",\"2015-09-30T00:00:00\",\"2015-12-31T00:00:00\",\"2016-03-31T00:00:00\",\"2016-06-30T00:00:00\",\"2016-09-30T00:00:00\",\"2016-12-31T00:00:00\",\"2017-03-31T00:00:00\",\"2017-06-30T00:00:00\",\"2017-09-30T00:00:00\",\"2017-12-31T00:00:00\",\"2018-03-31T00:00:00\",\"2018-06-30T00:00:00\",\"2018-09-30T00:00:00\",\"2018-12-31T00:00:00\",\"2019-03-31T00:00:00\",\"2019-06-30T00:00:00\",\"2019-09-30T00:00:00\",\"2019-12-31T00:00:00\",\"2020-03-31T00:00:00\",\"2020-06-30T00:00:00\",\"2020-09-30T00:00:00\",\"2020-12-31T00:00:00\",\"2021-03-31T00:00:00\",\"2021-06-30T00:00:00\",\"2021-09-30T00:00:00\",\"2021-12-31T00:00:00\",\"2022-03-31T00:00:00\",\"2022-06-30T00:00:00\",\"2022-09-30T00:00:00\",\"2022-12-31T00:00:00\",\"2023-03-31T00:00:00\",\"2023-06-30T00:00:00\",\"2023-09-30T00:00:00\",\"2023-12-31T00:00:00\",\"2024-03-31T00:00:00\",\"2024-06-30T00:00:00\",\"2024-09-30T00:00:00\"],\"y\":[9.990727118078379,13.2604139530353,10.449658924024385,10.786305771318672,9.25444188486766,5.291079060486292,1.2225062286514765,-0.19743864445337378,-0.7290191456500894,3.458359419132906,6.956486730606293,9.405909042934457,9.470419259966278,8.44900270732445,8.869491245419624,8.84763479874997,9.267124036975737,8.594578746135163,6.986797785187182,5.819879623255075,5.914343255535792,5.610944396562689,5.467885149992102,6.795938917708155,6.263754305423008,5.925669370887232,6.325215245247184,5.247098558086027,4.923377759037173,4.915129352651748,4.807386639292344,5.521747006041466,6.365131319693917,9.244640951147343,11.74614029516996,8.249115489180081,8.058603352979453,6.09336988941227,2.1241936432400355,3.1127667263687986,2.3546728978269593,0.5602062308117661,1.9644710174309354,3.970748381110223,3.009313242847056,5.938099252514606,5.715664816679777,3.889690248132771,3.988308990813594,2.6603020171604985,-1.6270778502443295,-22.65368201666289,-3.537728801554463,-0.41261849170135534,2.463862583868015,30.653718430287057,7.0393730752909,3.0181049327163034,3.392122160294253,2.821817588443576,4.759216347501849,6.092154147609019,5.713347946397818,6.5125273609181855,3.2372050814443165,1.4661199155059368,3.7070196577791092,1.4750486281313258,2.2115425784945852],\"type\":\"scatter\",\"xaxis\":\"x\",\"yaxis\":\"y2\"},{\"name\":\"Difference (%)\",\"x\":[\"2007-09-30T00:00:00\",\"2007-12-31T00:00:00\",\"2008-03-31T00:00:00\",\"2008-06-30T00:00:00\",\"2008-09-30T00:00:00\",\"2008-12-31T00:00:00\",\"2009-03-31T00:00:00\",\"2009-06-30T00:00:00\",\"2009-09-30T00:00:00\",\"2009-12-31T00:00:00\",\"2010-03-31T00:00:00\",\"2010-06-30T00:00:00\",\"2010-09-30T00:00:00\",\"2010-12-31T00:00:00\",\"2011-03-31T00:00:00\",\"2011-06-30T00:00:00\",\"2011-09-30T00:00:00\",\"2011-12-31T00:00:00\",\"2012-03-31T00:00:00\",\"2012-06-30T00:00:00\",\"2012-09-30T00:00:00\",\"2012-12-31T00:00:00\",\"2013-03-31T00:00:00\",\"2013-06-30T00:00:00\",\"2013-09-30T00:00:00\",\"2013-12-31T00:00:00\",\"2014-03-31T00:00:00\",\"2014-06-30T00:00:00\",\"2014-09-30T00:00:00\",\"2014-12-31T00:00:00\",\"2015-03-31T00:00:00\",\"2015-06-30T00:00:00\",\"2015-09-30T00:00:00\",\"2015-12-31T00:00:00\",\"2016-03-31T00:00:00\",\"2016-06-30T00:00:00\",\"2016-09-30T00:00:00\",\"2016-12-31T00:00:00\",\"2017-03-31T00:00:00\",\"2017-06-30T00:00:00\",\"2017-09-30T00:00:00\",\"2017-12-31T00:00:00\",\"2018-03-31T00:00:00\",\"2018-06-30T00:00:00\",\"2018-09-30T00:00:00\",\"2018-12-31T00:00:00\",\"2019-03-31T00:00:00\",\"2019-06-30T00:00:00\",\"2019-09-30T00:00:00\",\"2019-12-31T00:00:00\",\"2020-03-31T00:00:00\",\"2020-06-30T00:00:00\",\"2020-09-30T00:00:00\",\"2020-12-31T00:00:00\",\"2021-03-31T00:00:00\",\"2021-06-30T00:00:00\",\"2021-09-30T00:00:00\",\"2021-12-31T00:00:00\",\"2022-03-31T00:00:00\",\"2022-06-30T00:00:00\",\"2022-09-30T00:00:00\",\"2022-12-31T00:00:00\",\"2023-03-31T00:00:00\",\"2023-06-30T00:00:00\",\"2023-09-30T00:00:00\",\"2023-12-31T00:00:00\",\"2024-03-31T00:00:00\",\"2024-06-30T00:00:00\",\"2024-09-30T00:00:00\"],\"y\":[-0.8508570419216213,1.8360557730352998,0.30410530402438596,0.2540162613186716,-0.3250565171323405,-1.1931295435137077,-1.3715377543485237,0.5361450285466263,-0.6284743556500894,0.7301040881329057,1.4740595466062931,-0.009406421065543569,-0.09890134603372225,-0.21880263067555106,0.4556423444196245,3.5630062067499706,3.455574525975737,2.580338349135163,0.8761450801871824,-0.07438731874492444,-1.1061450594642075,0.05402331256268944,0.48979719299210256,0.532049343708155,1.0371088414230085,-0.9186901971127677,1.3693198082471847,3.2876594300860273,3.100178176037173,3.847445015651748,2.8786686152923435,2.3477617600414664,3.2094012076939173,4.6234940641473425,7.25867527916996,4.505673026180081,3.4467515859794533,3.0386197024122703,-0.17125984275996453,0.46908429236879856,-0.4527292171730406,-1.762449364188234,-1.1632272095690648,-1.6179808068897774,0.5317263068470561,1.2868192345146063,3.2793932636797773,2.7201140961327708,0.6246832258135937,0.6538658851604984,2.3004341467556704,7.28267103333711,5.282349077445536,0.9369873262986446,-2.0418767231319848,-11.38135756971294,-4.5861300347091,-0.4089435522836964,-0.4461118727057469,-0.5955187127781243,2.709630379994789,4.07722585258518,5.847932853879376,6.9749125197556445,3.9211309353224295,1.7832886357103948,2.2988455330364594,-2.157654211540604,-1.5921134159366348],\"type\":\"bar\",\"xaxis\":\"x\",\"yaxis\":\"y\"}],                        {\"template\":{\"data\":{\"barpolar\":[{\"marker\":{\"line\":{\"color\":\"white\",\"width\":0.5},\"pattern\":{\"fillmode\":\"overlay\",\"size\":10,\"solidity\":0.2}},\"type\":\"barpolar\"}],\"bar\":[{\"error_x\":{\"color\":\"rgb(36,36,36)\"},\"error_y\":{\"color\":\"rgb(36,36,36)\"},\"marker\":{\"line\":{\"color\":\"white\",\"width\":0.5},\"pattern\":{\"fillmode\":\"overlay\",\"size\":10,\"solidity\":0.2}},\"type\":\"bar\"}],\"carpet\":[{\"aaxis\":{\"endlinecolor\":\"rgb(36,36,36)\",\"gridcolor\":\"white\",\"linecolor\":\"white\",\"minorgridcolor\":\"white\",\"startlinecolor\":\"rgb(36,36,36)\"},\"baxis\":{\"endlinecolor\":\"rgb(36,36,36)\",\"gridcolor\":\"white\",\"linecolor\":\"white\",\"minorgridcolor\":\"white\",\"startlinecolor\":\"rgb(36,36,36)\"},\"type\":\"carpet\"}],\"choropleth\":[{\"colorbar\":{\"outlinewidth\":1,\"tickcolor\":\"rgb(36,36,36)\",\"ticks\":\"outside\"},\"type\":\"choropleth\"}],\"contourcarpet\":[{\"colorbar\":{\"outlinewidth\":1,\"tickcolor\":\"rgb(36,36,36)\",\"ticks\":\"outside\"},\"type\":\"contourcarpet\"}],\"contour\":[{\"colorbar\":{\"outlinewidth\":1,\"tickcolor\":\"rgb(36,36,36)\",\"ticks\":\"outside\"},\"colorscale\":[[0.0,\"#440154\"],[0.1111111111111111,\"#482878\"],[0.2222222222222222,\"#3e4989\"],[0.3333333333333333,\"#31688e\"],[0.4444444444444444,\"#26828e\"],[0.5555555555555556,\"#1f9e89\"],[0.6666666666666666,\"#35b779\"],[0.7777777777777778,\"#6ece58\"],[0.8888888888888888,\"#b5de2b\"],[1.0,\"#fde725\"]],\"type\":\"contour\"}],\"heatmapgl\":[{\"colorbar\":{\"outlinewidth\":1,\"tickcolor\":\"rgb(36,36,36)\",\"ticks\":\"outside\"},\"colorscale\":[[0.0,\"#440154\"],[0.1111111111111111,\"#482878\"],[0.2222222222222222,\"#3e4989\"],[0.3333333333333333,\"#31688e\"],[0.4444444444444444,\"#26828e\"],[0.5555555555555556,\"#1f9e89\"],[0.6666666666666666,\"#35b779\"],[0.7777777777777778,\"#6ece58\"],[0.8888888888888888,\"#b5de2b\"],[1.0,\"#fde725\"]],\"type\":\"heatmapgl\"}],\"heatmap\":[{\"colorbar\":{\"outlinewidth\":1,\"tickcolor\":\"rgb(36,36,36)\",\"ticks\":\"outside\"},\"colorscale\":[[0.0,\"#440154\"],[0.1111111111111111,\"#482878\"],[0.2222222222222222,\"#3e4989\"],[0.3333333333333333,\"#31688e\"],[0.4444444444444444,\"#26828e\"],[0.5555555555555556,\"#1f9e89\"],[0.6666666666666666,\"#35b779\"],[0.7777777777777778,\"#6ece58\"],[0.8888888888888888,\"#b5de2b\"],[1.0,\"#fde725\"]],\"type\":\"heatmap\"}],\"histogram2dcontour\":[{\"colorbar\":{\"outlinewidth\":1,\"tickcolor\":\"rgb(36,36,36)\",\"ticks\":\"outside\"},\"colorscale\":[[0.0,\"#440154\"],[0.1111111111111111,\"#482878\"],[0.2222222222222222,\"#3e4989\"],[0.3333333333333333,\"#31688e\"],[0.4444444444444444,\"#26828e\"],[0.5555555555555556,\"#1f9e89\"],[0.6666666666666666,\"#35b779\"],[0.7777777777777778,\"#6ece58\"],[0.8888888888888888,\"#b5de2b\"],[1.0,\"#fde725\"]],\"type\":\"histogram2dcontour\"}],\"histogram2d\":[{\"colorbar\":{\"outlinewidth\":1,\"tickcolor\":\"rgb(36,36,36)\",\"ticks\":\"outside\"},\"colorscale\":[[0.0,\"#440154\"],[0.1111111111111111,\"#482878\"],[0.2222222222222222,\"#3e4989\"],[0.3333333333333333,\"#31688e\"],[0.4444444444444444,\"#26828e\"],[0.5555555555555556,\"#1f9e89\"],[0.6666666666666666,\"#35b779\"],[0.7777777777777778,\"#6ece58\"],[0.8888888888888888,\"#b5de2b\"],[1.0,\"#fde725\"]],\"type\":\"histogram2d\"}],\"histogram\":[{\"marker\":{\"line\":{\"color\":\"white\",\"width\":0.6}},\"type\":\"histogram\"}],\"mesh3d\":[{\"colorbar\":{\"outlinewidth\":1,\"tickcolor\":\"rgb(36,36,36)\",\"ticks\":\"outside\"},\"type\":\"mesh3d\"}],\"parcoords\":[{\"line\":{\"colorbar\":{\"outlinewidth\":1,\"tickcolor\":\"rgb(36,36,36)\",\"ticks\":\"outside\"}},\"type\":\"parcoords\"}],\"pie\":[{\"automargin\":true,\"type\":\"pie\"}],\"scatter3d\":[{\"line\":{\"colorbar\":{\"outlinewidth\":1,\"tickcolor\":\"rgb(36,36,36)\",\"ticks\":\"outside\"}},\"marker\":{\"colorbar\":{\"outlinewidth\":1,\"tickcolor\":\"rgb(36,36,36)\",\"ticks\":\"outside\"}},\"type\":\"scatter3d\"}],\"scattercarpet\":[{\"marker\":{\"colorbar\":{\"outlinewidth\":1,\"tickcolor\":\"rgb(36,36,36)\",\"ticks\":\"outside\"}},\"type\":\"scattercarpet\"}],\"scattergeo\":[{\"marker\":{\"colorbar\":{\"outlinewidth\":1,\"tickcolor\":\"rgb(36,36,36)\",\"ticks\":\"outside\"}},\"type\":\"scattergeo\"}],\"scattergl\":[{\"marker\":{\"colorbar\":{\"outlinewidth\":1,\"tickcolor\":\"rgb(36,36,36)\",\"ticks\":\"outside\"}},\"type\":\"scattergl\"}],\"scattermapbox\":[{\"marker\":{\"colorbar\":{\"outlinewidth\":1,\"tickcolor\":\"rgb(36,36,36)\",\"ticks\":\"outside\"}},\"type\":\"scattermapbox\"}],\"scatterpolargl\":[{\"marker\":{\"colorbar\":{\"outlinewidth\":1,\"tickcolor\":\"rgb(36,36,36)\",\"ticks\":\"outside\"}},\"type\":\"scatterpolargl\"}],\"scatterpolar\":[{\"marker\":{\"colorbar\":{\"outlinewidth\":1,\"tickcolor\":\"rgb(36,36,36)\",\"ticks\":\"outside\"}},\"type\":\"scatterpolar\"}],\"scatter\":[{\"fillpattern\":{\"fillmode\":\"overlay\",\"size\":10,\"solidity\":0.2},\"type\":\"scatter\"}],\"scatterternary\":[{\"marker\":{\"colorbar\":{\"outlinewidth\":1,\"tickcolor\":\"rgb(36,36,36)\",\"ticks\":\"outside\"}},\"type\":\"scatterternary\"}],\"surface\":[{\"colorbar\":{\"outlinewidth\":1,\"tickcolor\":\"rgb(36,36,36)\",\"ticks\":\"outside\"},\"colorscale\":[[0.0,\"#440154\"],[0.1111111111111111,\"#482878\"],[0.2222222222222222,\"#3e4989\"],[0.3333333333333333,\"#31688e\"],[0.4444444444444444,\"#26828e\"],[0.5555555555555556,\"#1f9e89\"],[0.6666666666666666,\"#35b779\"],[0.7777777777777778,\"#6ece58\"],[0.8888888888888888,\"#b5de2b\"],[1.0,\"#fde725\"]],\"type\":\"surface\"}],\"table\":[{\"cells\":{\"fill\":{\"color\":\"rgb(237,237,237)\"},\"line\":{\"color\":\"white\"}},\"header\":{\"fill\":{\"color\":\"rgb(217,217,217)\"},\"line\":{\"color\":\"white\"}},\"type\":\"table\"}]},\"layout\":{\"annotationdefaults\":{\"arrowhead\":0,\"arrowwidth\":1},\"autotypenumbers\":\"strict\",\"coloraxis\":{\"colorbar\":{\"outlinewidth\":1,\"tickcolor\":\"rgb(36,36,36)\",\"ticks\":\"outside\"}},\"colorscale\":{\"diverging\":[[0.0,\"rgb(103,0,31)\"],[0.1,\"rgb(178,24,43)\"],[0.2,\"rgb(214,96,77)\"],[0.3,\"rgb(244,165,130)\"],[0.4,\"rgb(253,219,199)\"],[0.5,\"rgb(247,247,247)\"],[0.6,\"rgb(209,229,240)\"],[0.7,\"rgb(146,197,222)\"],[0.8,\"rgb(67,147,195)\"],[0.9,\"rgb(33,102,172)\"],[1.0,\"rgb(5,48,97)\"]],\"sequential\":[[0.0,\"#440154\"],[0.1111111111111111,\"#482878\"],[0.2222222222222222,\"#3e4989\"],[0.3333333333333333,\"#31688e\"],[0.4444444444444444,\"#26828e\"],[0.5555555555555556,\"#1f9e89\"],[0.6666666666666666,\"#35b779\"],[0.7777777777777778,\"#6ece58\"],[0.8888888888888888,\"#b5de2b\"],[1.0,\"#fde725\"]],\"sequentialminus\":[[0.0,\"#440154\"],[0.1111111111111111,\"#482878\"],[0.2222222222222222,\"#3e4989\"],[0.3333333333333333,\"#31688e\"],[0.4444444444444444,\"#26828e\"],[0.5555555555555556,\"#1f9e89\"],[0.6666666666666666,\"#35b779\"],[0.7777777777777778,\"#6ece58\"],[0.8888888888888888,\"#b5de2b\"],[1.0,\"#fde725\"]]},\"colorway\":[\"#1F77B4\",\"#FF7F0E\",\"#2CA02C\",\"#D62728\",\"#9467BD\",\"#8C564B\",\"#E377C2\",\"#7F7F7F\",\"#BCBD22\",\"#17BECF\"],\"font\":{\"color\":\"rgb(36,36,36)\"},\"geo\":{\"bgcolor\":\"white\",\"lakecolor\":\"white\",\"landcolor\":\"white\",\"showlakes\":true,\"showland\":true,\"subunitcolor\":\"white\"},\"hoverlabel\":{\"align\":\"left\"},\"hovermode\":\"closest\",\"mapbox\":{\"style\":\"light\"},\"paper_bgcolor\":\"white\",\"plot_bgcolor\":\"white\",\"polar\":{\"angularaxis\":{\"gridcolor\":\"rgb(232,232,232)\",\"linecolor\":\"rgb(36,36,36)\",\"showgrid\":false,\"showline\":true,\"ticks\":\"outside\"},\"bgcolor\":\"white\",\"radialaxis\":{\"gridcolor\":\"rgb(232,232,232)\",\"linecolor\":\"rgb(36,36,36)\",\"showgrid\":false,\"showline\":true,\"ticks\":\"outside\"}},\"scene\":{\"xaxis\":{\"backgroundcolor\":\"white\",\"gridcolor\":\"rgb(232,232,232)\",\"gridwidth\":2,\"linecolor\":\"rgb(36,36,36)\",\"showbackground\":true,\"showgrid\":false,\"showline\":true,\"ticks\":\"outside\",\"zeroline\":false,\"zerolinecolor\":\"rgb(36,36,36)\"},\"yaxis\":{\"backgroundcolor\":\"white\",\"gridcolor\":\"rgb(232,232,232)\",\"gridwidth\":2,\"linecolor\":\"rgb(36,36,36)\",\"showbackground\":true,\"showgrid\":false,\"showline\":true,\"ticks\":\"outside\",\"zeroline\":false,\"zerolinecolor\":\"rgb(36,36,36)\"},\"zaxis\":{\"backgroundcolor\":\"white\",\"gridcolor\":\"rgb(232,232,232)\",\"gridwidth\":2,\"linecolor\":\"rgb(36,36,36)\",\"showbackground\":true,\"showgrid\":false,\"showline\":true,\"ticks\":\"outside\",\"zeroline\":false,\"zerolinecolor\":\"rgb(36,36,36)\"}},\"shapedefaults\":{\"fillcolor\":\"black\",\"line\":{\"width\":0},\"opacity\":0.3},\"ternary\":{\"aaxis\":{\"gridcolor\":\"rgb(232,232,232)\",\"linecolor\":\"rgb(36,36,36)\",\"showgrid\":false,\"showline\":true,\"ticks\":\"outside\"},\"baxis\":{\"gridcolor\":\"rgb(232,232,232)\",\"linecolor\":\"rgb(36,36,36)\",\"showgrid\":false,\"showline\":true,\"ticks\":\"outside\"},\"bgcolor\":\"white\",\"caxis\":{\"gridcolor\":\"rgb(232,232,232)\",\"linecolor\":\"rgb(36,36,36)\",\"showgrid\":false,\"showline\":true,\"ticks\":\"outside\"}},\"title\":{\"x\":0.05},\"xaxis\":{\"automargin\":true,\"gridcolor\":\"rgb(232,232,232)\",\"linecolor\":\"rgb(36,36,36)\",\"showgrid\":false,\"showline\":true,\"ticks\":\"outside\",\"title\":{\"standoff\":15},\"zeroline\":false,\"zerolinecolor\":\"rgb(36,36,36)\"},\"yaxis\":{\"automargin\":true,\"gridcolor\":\"rgb(232,232,232)\",\"linecolor\":\"rgb(36,36,36)\",\"showgrid\":false,\"showline\":true,\"ticks\":\"outside\",\"title\":{\"standoff\":15},\"zeroline\":false,\"zerolinecolor\":\"rgb(36,36,36)\"}}},\"xaxis\":{\"anchor\":\"y\",\"domain\":[0.0,0.94]},\"yaxis\":{\"anchor\":\"x\",\"domain\":[0.0,1.0],\"title\":{\"text\":\"\\u003cb\\u003eDifference\\u003c\\u002fb\\u003e (%)\"}},\"yaxis2\":{\"anchor\":\"x\",\"overlaying\":\"y\",\"side\":\"right\",\"title\":{\"text\":\"\\u003cb\\u003eGDP and Electricity growth rate\\u003c\\u002fb\\u003e (%)\"}},\"title\":{\"text\":\"Electric demand & Peruvian GDP growth rate\"},\"legend\":{\"orientation\":\"h\",\"yanchor\":\"bottom\",\"y\":-0.2,\"xanchor\":\"center\",\"x\":0.5}},                        {\"responsive\": true}                    ).then(function(){\n",
              "                            \n",
              "var gd = document.getElementById('cb84d88e-8ab1-4e7e-b7c7-41445733fde5');\n",
              "var x = new MutationObserver(function (mutations, observer) {{\n",
              "        var display = window.getComputedStyle(gd).display;\n",
              "        if (!display || display === 'none') {{\n",
              "            console.log([gd, 'removed!']);\n",
              "            Plotly.purge(gd);\n",
              "            observer.disconnect();\n",
              "        }}\n",
              "}});\n",
              "\n",
              "// Listen for the removal of the full notebook cells\n",
              "var notebookContainer = gd.closest('#notebook-container');\n",
              "if (notebookContainer) {{\n",
              "    x.observe(notebookContainer, {childList: true});\n",
              "}}\n",
              "\n",
              "// Listen for the clearing of the current output cell\n",
              "var outputEl = gd.closest('.output');\n",
              "if (outputEl) {{\n",
              "    x.observe(outputEl, {childList: true});\n",
              "}}\n",
              "\n",
              "                        })                };                            </script>        </div>\n",
              "</body>\n",
              "</html>"
            ]
          },
          "metadata": {}
        }
      ],
      "source": [
        "import plotly.graph_objects as go\n",
        "from plotly.subplots import make_subplots\n",
        "\n",
        "# Create figure with secondary y-axis\n",
        "fig = make_subplots(specs=[[{\"secondary_y\": True}]])\n",
        "\n",
        "# Add traces\n",
        "fig.add_trace(go.Scatter(x=df_merge.index, y=df_merge['GDP'], name=\"GDP Growth rate\"), secondary_y=True)\n",
        "fig.add_trace(go.Scatter(x=df_merge.index, y=df_merge['Elect_Growth'], name=\"Electricity growth rate\"), secondary_y=True)\n",
        "fig.add_bar(x=df_merge.index, y=df_merge['Diff'], name=\"Difference (%)\", secondary_y=False)\n",
        "\n",
        "# Add figure title\n",
        "fig.update_layout(title_text=\"Double Y Axis Example\")\n",
        "\n",
        "# # Set x-axis title\n",
        "# fig.update_xaxes(title_text=\"Year\")\n",
        "\n",
        "# Set y-axes titles\n",
        "fig.update_yaxes(title_text=\"<b>Difference</b> (%)\", secondary_y=False)\n",
        "fig.update_yaxes(title_text=\"<b>GDP and Electricity growth rate</b> (%)\", secondary_y=True)\n",
        "\n",
        "# Update layout for the legend to be at the bottom\n",
        "fig.update_layout(\n",
        "    template='simple_white',\n",
        "    title=\"Electric demand & Peruvian GDP growth rate\",\n",
        "    legend=dict(\n",
        "        orientation=\"h\",\n",
        "        yanchor=\"bottom\",\n",
        "        y=-0.2,\n",
        "        xanchor=\"center\",\n",
        "        x=0.5\n",
        "    )\n",
        ")\n",
        "\n",
        "# Show the figure\n",
        "fig.show()\n"
      ]
    },
    {
      "cell_type": "markdown",
      "source": [
        "###Stationarity test\n",
        "\n",
        "\n",
        "---\n",
        "\n"
      ],
      "metadata": {
        "id": "2zWkX6M1OC1R"
      },
      "id": "2zWkX6M1OC1R"
    },
    {
      "cell_type": "code",
      "execution_count": 257,
      "id": "be3f405b",
      "metadata": {
        "id": "be3f405b",
        "colab": {
          "base_uri": "https://localhost:8080/",
          "height": 125
        },
        "outputId": "dc8294ab-b7f1-4bac-fb01-217b5fc285d2"
      },
      "outputs": [
        {
          "output_type": "display_data",
          "data": {
            "text/plain": [
              "             Variable  ADF Statistic  p-value  Number of lags used  \\\n",
              "0  Electricity Growth          -3.80     0.00                    4   \n",
              "1          GDP Growth          -5.71     0.00                    3   \n",
              "\n",
              "   Number of observations  Critical Value (1%)  Critical Value (5%)  \\\n",
              "0                      64                -3.54                -2.91   \n",
              "1                      65                -3.54                -2.91   \n",
              "\n",
              "   Critical Value (10%)  Information Criterion Conclusion (5%)  \n",
              "0                 -2.59                 351.14      Stationary  \n",
              "1                 -2.59                 380.75      Stationary  "
            ],
            "text/html": [
              "\n",
              "  <div id=\"df-fae885aa-9894-4543-a8bd-0858ac29b565\" class=\"colab-df-container\">\n",
              "    <div>\n",
              "<style scoped>\n",
              "    .dataframe tbody tr th:only-of-type {\n",
              "        vertical-align: middle;\n",
              "    }\n",
              "\n",
              "    .dataframe tbody tr th {\n",
              "        vertical-align: top;\n",
              "    }\n",
              "\n",
              "    .dataframe thead th {\n",
              "        text-align: right;\n",
              "    }\n",
              "</style>\n",
              "<table border=\"1\" class=\"dataframe\">\n",
              "  <thead>\n",
              "    <tr style=\"text-align: right;\">\n",
              "      <th></th>\n",
              "      <th>Variable</th>\n",
              "      <th>ADF Statistic</th>\n",
              "      <th>p-value</th>\n",
              "      <th>Number of lags used</th>\n",
              "      <th>Number of observations</th>\n",
              "      <th>Critical Value (1%)</th>\n",
              "      <th>Critical Value (5%)</th>\n",
              "      <th>Critical Value (10%)</th>\n",
              "      <th>Information Criterion</th>\n",
              "      <th>Conclusion (5%)</th>\n",
              "    </tr>\n",
              "  </thead>\n",
              "  <tbody>\n",
              "    <tr>\n",
              "      <th>0</th>\n",
              "      <td>Electricity Growth</td>\n",
              "      <td>-3.80</td>\n",
              "      <td>0.00</td>\n",
              "      <td>4</td>\n",
              "      <td>64</td>\n",
              "      <td>-3.54</td>\n",
              "      <td>-2.91</td>\n",
              "      <td>-2.59</td>\n",
              "      <td>351.14</td>\n",
              "      <td>Stationary</td>\n",
              "    </tr>\n",
              "    <tr>\n",
              "      <th>1</th>\n",
              "      <td>GDP Growth</td>\n",
              "      <td>-5.71</td>\n",
              "      <td>0.00</td>\n",
              "      <td>3</td>\n",
              "      <td>65</td>\n",
              "      <td>-3.54</td>\n",
              "      <td>-2.91</td>\n",
              "      <td>-2.59</td>\n",
              "      <td>380.75</td>\n",
              "      <td>Stationary</td>\n",
              "    </tr>\n",
              "  </tbody>\n",
              "</table>\n",
              "</div>\n",
              "    <div class=\"colab-df-buttons\">\n",
              "\n",
              "  <div class=\"colab-df-container\">\n",
              "    <button class=\"colab-df-convert\" onclick=\"convertToInteractive('df-fae885aa-9894-4543-a8bd-0858ac29b565')\"\n",
              "            title=\"Convert this dataframe to an interactive table.\"\n",
              "            style=\"display:none;\">\n",
              "\n",
              "  <svg xmlns=\"http://www.w3.org/2000/svg\" height=\"24px\" viewBox=\"0 -960 960 960\">\n",
              "    <path d=\"M120-120v-720h720v720H120Zm60-500h600v-160H180v160Zm220 220h160v-160H400v160Zm0 220h160v-160H400v160ZM180-400h160v-160H180v160Zm440 0h160v-160H620v160ZM180-180h160v-160H180v160Zm440 0h160v-160H620v160Z\"/>\n",
              "  </svg>\n",
              "    </button>\n",
              "\n",
              "  <style>\n",
              "    .colab-df-container {\n",
              "      display:flex;\n",
              "      gap: 12px;\n",
              "    }\n",
              "\n",
              "    .colab-df-convert {\n",
              "      background-color: #E8F0FE;\n",
              "      border: none;\n",
              "      border-radius: 50%;\n",
              "      cursor: pointer;\n",
              "      display: none;\n",
              "      fill: #1967D2;\n",
              "      height: 32px;\n",
              "      padding: 0 0 0 0;\n",
              "      width: 32px;\n",
              "    }\n",
              "\n",
              "    .colab-df-convert:hover {\n",
              "      background-color: #E2EBFA;\n",
              "      box-shadow: 0px 1px 2px rgba(60, 64, 67, 0.3), 0px 1px 3px 1px rgba(60, 64, 67, 0.15);\n",
              "      fill: #174EA6;\n",
              "    }\n",
              "\n",
              "    .colab-df-buttons div {\n",
              "      margin-bottom: 4px;\n",
              "    }\n",
              "\n",
              "    [theme=dark] .colab-df-convert {\n",
              "      background-color: #3B4455;\n",
              "      fill: #D2E3FC;\n",
              "    }\n",
              "\n",
              "    [theme=dark] .colab-df-convert:hover {\n",
              "      background-color: #434B5C;\n",
              "      box-shadow: 0px 1px 3px 1px rgba(0, 0, 0, 0.15);\n",
              "      filter: drop-shadow(0px 1px 2px rgba(0, 0, 0, 0.3));\n",
              "      fill: #FFFFFF;\n",
              "    }\n",
              "  </style>\n",
              "\n",
              "    <script>\n",
              "      const buttonEl =\n",
              "        document.querySelector('#df-fae885aa-9894-4543-a8bd-0858ac29b565 button.colab-df-convert');\n",
              "      buttonEl.style.display =\n",
              "        google.colab.kernel.accessAllowed ? 'block' : 'none';\n",
              "\n",
              "      async function convertToInteractive(key) {\n",
              "        const element = document.querySelector('#df-fae885aa-9894-4543-a8bd-0858ac29b565');\n",
              "        const dataTable =\n",
              "          await google.colab.kernel.invokeFunction('convertToInteractive',\n",
              "                                                    [key], {});\n",
              "        if (!dataTable) return;\n",
              "\n",
              "        const docLinkHtml = 'Like what you see? Visit the ' +\n",
              "          '<a target=\"_blank\" href=https://colab.research.google.com/notebooks/data_table.ipynb>data table notebook</a>'\n",
              "          + ' to learn more about interactive tables.';\n",
              "        element.innerHTML = '';\n",
              "        dataTable['output_type'] = 'display_data';\n",
              "        await google.colab.output.renderOutput(dataTable, element);\n",
              "        const docLink = document.createElement('div');\n",
              "        docLink.innerHTML = docLinkHtml;\n",
              "        element.appendChild(docLink);\n",
              "      }\n",
              "    </script>\n",
              "  </div>\n",
              "\n",
              "\n",
              "<div id=\"df-f7feab20-97fe-43cc-b7b2-c5654b6e7eb4\">\n",
              "  <button class=\"colab-df-quickchart\" onclick=\"quickchart('df-f7feab20-97fe-43cc-b7b2-c5654b6e7eb4')\"\n",
              "            title=\"Suggest charts\"\n",
              "            style=\"display:none;\">\n",
              "\n",
              "<svg xmlns=\"http://www.w3.org/2000/svg\" height=\"24px\"viewBox=\"0 0 24 24\"\n",
              "     width=\"24px\">\n",
              "    <g>\n",
              "        <path d=\"M19 3H5c-1.1 0-2 .9-2 2v14c0 1.1.9 2 2 2h14c1.1 0 2-.9 2-2V5c0-1.1-.9-2-2-2zM9 17H7v-7h2v7zm4 0h-2V7h2v10zm4 0h-2v-4h2v4z\"/>\n",
              "    </g>\n",
              "</svg>\n",
              "  </button>\n",
              "\n",
              "<style>\n",
              "  .colab-df-quickchart {\n",
              "      --bg-color: #E8F0FE;\n",
              "      --fill-color: #1967D2;\n",
              "      --hover-bg-color: #E2EBFA;\n",
              "      --hover-fill-color: #174EA6;\n",
              "      --disabled-fill-color: #AAA;\n",
              "      --disabled-bg-color: #DDD;\n",
              "  }\n",
              "\n",
              "  [theme=dark] .colab-df-quickchart {\n",
              "      --bg-color: #3B4455;\n",
              "      --fill-color: #D2E3FC;\n",
              "      --hover-bg-color: #434B5C;\n",
              "      --hover-fill-color: #FFFFFF;\n",
              "      --disabled-bg-color: #3B4455;\n",
              "      --disabled-fill-color: #666;\n",
              "  }\n",
              "\n",
              "  .colab-df-quickchart {\n",
              "    background-color: var(--bg-color);\n",
              "    border: none;\n",
              "    border-radius: 50%;\n",
              "    cursor: pointer;\n",
              "    display: none;\n",
              "    fill: var(--fill-color);\n",
              "    height: 32px;\n",
              "    padding: 0;\n",
              "    width: 32px;\n",
              "  }\n",
              "\n",
              "  .colab-df-quickchart:hover {\n",
              "    background-color: var(--hover-bg-color);\n",
              "    box-shadow: 0 1px 2px rgba(60, 64, 67, 0.3), 0 1px 3px 1px rgba(60, 64, 67, 0.15);\n",
              "    fill: var(--button-hover-fill-color);\n",
              "  }\n",
              "\n",
              "  .colab-df-quickchart-complete:disabled,\n",
              "  .colab-df-quickchart-complete:disabled:hover {\n",
              "    background-color: var(--disabled-bg-color);\n",
              "    fill: var(--disabled-fill-color);\n",
              "    box-shadow: none;\n",
              "  }\n",
              "\n",
              "  .colab-df-spinner {\n",
              "    border: 2px solid var(--fill-color);\n",
              "    border-color: transparent;\n",
              "    border-bottom-color: var(--fill-color);\n",
              "    animation:\n",
              "      spin 1s steps(1) infinite;\n",
              "  }\n",
              "\n",
              "  @keyframes spin {\n",
              "    0% {\n",
              "      border-color: transparent;\n",
              "      border-bottom-color: var(--fill-color);\n",
              "      border-left-color: var(--fill-color);\n",
              "    }\n",
              "    20% {\n",
              "      border-color: transparent;\n",
              "      border-left-color: var(--fill-color);\n",
              "      border-top-color: var(--fill-color);\n",
              "    }\n",
              "    30% {\n",
              "      border-color: transparent;\n",
              "      border-left-color: var(--fill-color);\n",
              "      border-top-color: var(--fill-color);\n",
              "      border-right-color: var(--fill-color);\n",
              "    }\n",
              "    40% {\n",
              "      border-color: transparent;\n",
              "      border-right-color: var(--fill-color);\n",
              "      border-top-color: var(--fill-color);\n",
              "    }\n",
              "    60% {\n",
              "      border-color: transparent;\n",
              "      border-right-color: var(--fill-color);\n",
              "    }\n",
              "    80% {\n",
              "      border-color: transparent;\n",
              "      border-right-color: var(--fill-color);\n",
              "      border-bottom-color: var(--fill-color);\n",
              "    }\n",
              "    90% {\n",
              "      border-color: transparent;\n",
              "      border-bottom-color: var(--fill-color);\n",
              "    }\n",
              "  }\n",
              "</style>\n",
              "\n",
              "  <script>\n",
              "    async function quickchart(key) {\n",
              "      const quickchartButtonEl =\n",
              "        document.querySelector('#' + key + ' button');\n",
              "      quickchartButtonEl.disabled = true;  // To prevent multiple clicks.\n",
              "      quickchartButtonEl.classList.add('colab-df-spinner');\n",
              "      try {\n",
              "        const charts = await google.colab.kernel.invokeFunction(\n",
              "            'suggestCharts', [key], {});\n",
              "      } catch (error) {\n",
              "        console.error('Error during call to suggestCharts:', error);\n",
              "      }\n",
              "      quickchartButtonEl.classList.remove('colab-df-spinner');\n",
              "      quickchartButtonEl.classList.add('colab-df-quickchart-complete');\n",
              "    }\n",
              "    (() => {\n",
              "      let quickchartButtonEl =\n",
              "        document.querySelector('#df-f7feab20-97fe-43cc-b7b2-c5654b6e7eb4 button');\n",
              "      quickchartButtonEl.style.display =\n",
              "        google.colab.kernel.accessAllowed ? 'block' : 'none';\n",
              "    })();\n",
              "  </script>\n",
              "</div>\n",
              "\n",
              "  <div id=\"id_3ca3f753-fbd2-4179-8841-56f15ef609a4\">\n",
              "    <style>\n",
              "      .colab-df-generate {\n",
              "        background-color: #E8F0FE;\n",
              "        border: none;\n",
              "        border-radius: 50%;\n",
              "        cursor: pointer;\n",
              "        display: none;\n",
              "        fill: #1967D2;\n",
              "        height: 32px;\n",
              "        padding: 0 0 0 0;\n",
              "        width: 32px;\n",
              "      }\n",
              "\n",
              "      .colab-df-generate:hover {\n",
              "        background-color: #E2EBFA;\n",
              "        box-shadow: 0px 1px 2px rgba(60, 64, 67, 0.3), 0px 1px 3px 1px rgba(60, 64, 67, 0.15);\n",
              "        fill: #174EA6;\n",
              "      }\n",
              "\n",
              "      [theme=dark] .colab-df-generate {\n",
              "        background-color: #3B4455;\n",
              "        fill: #D2E3FC;\n",
              "      }\n",
              "\n",
              "      [theme=dark] .colab-df-generate:hover {\n",
              "        background-color: #434B5C;\n",
              "        box-shadow: 0px 1px 3px 1px rgba(0, 0, 0, 0.15);\n",
              "        filter: drop-shadow(0px 1px 2px rgba(0, 0, 0, 0.3));\n",
              "        fill: #FFFFFF;\n",
              "      }\n",
              "    </style>\n",
              "    <button class=\"colab-df-generate\" onclick=\"generateWithVariable('df_results')\"\n",
              "            title=\"Generate code using this dataframe.\"\n",
              "            style=\"display:none;\">\n",
              "\n",
              "  <svg xmlns=\"http://www.w3.org/2000/svg\" height=\"24px\"viewBox=\"0 0 24 24\"\n",
              "       width=\"24px\">\n",
              "    <path d=\"M7,19H8.4L18.45,9,17,7.55,7,17.6ZM5,21V16.75L18.45,3.32a2,2,0,0,1,2.83,0l1.4,1.43a1.91,1.91,0,0,1,.58,1.4,1.91,1.91,0,0,1-.58,1.4L9.25,21ZM18.45,9,17,7.55Zm-12,3A5.31,5.31,0,0,0,4.9,8.1,5.31,5.31,0,0,0,1,6.5,5.31,5.31,0,0,0,4.9,4.9,5.31,5.31,0,0,0,6.5,1,5.31,5.31,0,0,0,8.1,4.9,5.31,5.31,0,0,0,12,6.5,5.46,5.46,0,0,0,6.5,12Z\"/>\n",
              "  </svg>\n",
              "    </button>\n",
              "    <script>\n",
              "      (() => {\n",
              "      const buttonEl =\n",
              "        document.querySelector('#id_3ca3f753-fbd2-4179-8841-56f15ef609a4 button.colab-df-generate');\n",
              "      buttonEl.style.display =\n",
              "        google.colab.kernel.accessAllowed ? 'block' : 'none';\n",
              "\n",
              "      buttonEl.onclick = () => {\n",
              "        google.colab.notebook.generateWithVariable('df_results');\n",
              "      }\n",
              "      })();\n",
              "    </script>\n",
              "  </div>\n",
              "\n",
              "    </div>\n",
              "  </div>\n"
            ],
            "application/vnd.google.colaboratory.intrinsic+json": {
              "type": "dataframe",
              "variable_name": "df_results",
              "summary": "{\n  \"name\": \"df_results\",\n  \"rows\": 2,\n  \"fields\": [\n    {\n      \"column\": \"Variable\",\n      \"properties\": {\n        \"dtype\": \"string\",\n        \"num_unique_values\": 2,\n        \"samples\": [\n          \"GDP Growth\",\n          \"Electricity Growth\"\n        ],\n        \"semantic_type\": \"\",\n        \"description\": \"\"\n      }\n    },\n    {\n      \"column\": \"ADF Statistic\",\n      \"properties\": {\n        \"dtype\": \"number\",\n        \"std\": 1.3520650704454447,\n        \"min\": -5.709723541782843,\n        \"max\": -3.797614781947961,\n        \"num_unique_values\": 2,\n        \"samples\": [\n          -5.709723541782843,\n          -3.797614781947961\n        ],\n        \"semantic_type\": \"\",\n        \"description\": \"\"\n      }\n    },\n    {\n      \"column\": \"p-value\",\n      \"properties\": {\n        \"dtype\": \"number\",\n        \"std\": 0.0020725856035733866,\n        \"min\": 7.347175946039884e-07,\n        \"max\": 0.0029318133873473145,\n        \"num_unique_values\": 2,\n        \"samples\": [\n          7.347175946039884e-07,\n          0.0029318133873473145\n        ],\n        \"semantic_type\": \"\",\n        \"description\": \"\"\n      }\n    },\n    {\n      \"column\": \"Number of lags used\",\n      \"properties\": {\n        \"dtype\": \"number\",\n        \"std\": 0,\n        \"min\": 3,\n        \"max\": 4,\n        \"num_unique_values\": 2,\n        \"samples\": [\n          3,\n          4\n        ],\n        \"semantic_type\": \"\",\n        \"description\": \"\"\n      }\n    },\n    {\n      \"column\": \"Number of observations\",\n      \"properties\": {\n        \"dtype\": \"number\",\n        \"std\": 0,\n        \"min\": 64,\n        \"max\": 65,\n        \"num_unique_values\": 2,\n        \"samples\": [\n          65,\n          64\n        ],\n        \"semantic_type\": \"\",\n        \"description\": \"\"\n      }\n    },\n    {\n      \"column\": \"Critical Value (1%)\",\n      \"properties\": {\n        \"dtype\": \"number\",\n        \"std\": 0.001209750136299404,\n        \"min\": -3.53692771987915,\n        \"max\": -3.5352168748293127,\n        \"num_unique_values\": 2,\n        \"samples\": [\n          -3.5352168748293127,\n          -3.53692771987915\n        ],\n        \"semantic_type\": \"\",\n        \"description\": \"\"\n      }\n    },\n    {\n      \"column\": \"Critical Value (5%)\",\n      \"properties\": {\n        \"dtype\": \"number\",\n        \"std\": 0.0005185118881895265,\n        \"min\": -2.907887369384766,\n        \"max\": -2.9071540828402367,\n        \"num_unique_values\": 2,\n        \"samples\": [\n          -2.9071540828402367,\n          -2.907887369384766\n        ],\n        \"semantic_type\": \"\",\n        \"description\": \"\"\n      }\n    },\n    {\n      \"column\": \"Critical Value (10%)\",\n      \"properties\": {\n        \"dtype\": \"number\",\n        \"std\": 0.0002762995966968078,\n        \"min\": -2.591493291015625,\n        \"max\": -2.5911025443786984,\n        \"num_unique_values\": 2,\n        \"samples\": [\n          -2.5911025443786984,\n          -2.591493291015625\n        ],\n        \"semantic_type\": \"\",\n        \"description\": \"\"\n      }\n    },\n    {\n      \"column\": \"Information Criterion\",\n      \"properties\": {\n        \"dtype\": \"number\",\n        \"std\": 20.938752861125487,\n        \"min\": 351.14050090244166,\n        \"max\": 380.75236917782377,\n        \"num_unique_values\": 2,\n        \"samples\": [\n          380.75236917782377,\n          351.14050090244166\n        ],\n        \"semantic_type\": \"\",\n        \"description\": \"\"\n      }\n    },\n    {\n      \"column\": \"Conclusion (5%)\",\n      \"properties\": {\n        \"dtype\": \"string\",\n        \"num_unique_values\": 1,\n        \"samples\": [\n          \"Stationary\"\n        ],\n        \"semantic_type\": \"\",\n        \"description\": \"\"\n      }\n    }\n  ]\n}"
            }
          },
          "metadata": {}
        }
      ],
      "source": [
        "import pandas as pd\n",
        "from statsmodels.tsa.stattools import adfuller\n",
        "\n",
        "# Assuming df_merge is already defined and filtered\n",
        "\n",
        "# Prepare the data\n",
        "y = df_merge['GDP'].values\n",
        "x = df_merge['Elect_Growth'].values\n",
        "\n",
        "# Perform the ADF test on electricity growth (exogenous)\n",
        "result_elec = adfuller(x)\n",
        "\n",
        "# Perform the ADF test on GDP growth (endogenous)\n",
        "result_gdp = adfuller(y)\n",
        "\n",
        "# Function to extract ADF test results into a dictionary\n",
        "def extract_adf_results(result, variable_name):\n",
        "    adf_stat, p_value, used_lag, n_obs, crit_values, ic_best = result\n",
        "    return {\n",
        "        'Variable': variable_name,\n",
        "        'ADF Statistic': adf_stat,\n",
        "        'p-value': p_value,\n",
        "        'Number of lags used': used_lag,\n",
        "        'Number of observations': n_obs,\n",
        "        'Critical Value (1%)': crit_values['1%'],\n",
        "        'Critical Value (5%)': crit_values['5%'],\n",
        "        'Critical Value (10%)': crit_values['10%'],\n",
        "        'Information Criterion': ic_best,\n",
        "        'Conclusion (5%)': 'Stationary' if p_value < 0.05 else 'Non-stationary'\n",
        "    }\n",
        "\n",
        "# Extract results\n",
        "results = [\n",
        "    extract_adf_results(result_elec, 'Electricity Growth'),\n",
        "    extract_adf_results(result_gdp, 'GDP Growth')\n",
        "]\n",
        "\n",
        "# Convert to DataFrame\n",
        "df_results = pd.DataFrame(results)\n",
        "\n",
        "# Display the DataFrame\n",
        "display(df_results)\n"
      ]
    },
    {
      "cell_type": "code",
      "execution_count": 258,
      "id": "81baeb10",
      "metadata": {
        "id": "81baeb10",
        "colab": {
          "base_uri": "https://localhost:8080/",
          "height": 564
        },
        "outputId": "d5c9d9dd-281a-448e-9e8f-b16c6df5ea83"
      },
      "outputs": [
        {
          "output_type": "display_data",
          "data": {
            "text/plain": [
              "<Figure size 1000x600 with 1 Axes>"
            ],
            "image/png": "[encoded data removed]"
          },
          "metadata": {}
        }
      ],
      "source": [
        "import numpy as np\n",
        "import pandas as pd\n",
        "from statsmodels.tsa.stattools import adfuller\n",
        "import matplotlib.pyplot as plt\n",
        "import seaborn as sns\n",
        "\n",
        "# Number of simulations\n",
        "num_simulations = 10000\n",
        "sample_size = 100\n",
        "adf_stats = []\n",
        "\n",
        "# Simulate random walk data and perform ADF test\n",
        "for _ in range(num_simulations):\n",
        "    random_walk = np.random.randn(sample_size).cumsum()\n",
        "    result = adfuller(random_walk, maxlag=0, regression='c')\n",
        "    adf_stats.append(result[0])\n",
        "\n",
        "# Convert to DataFrame\n",
        "df_adf_stats = pd.DataFrame(adf_stats, columns=['ADF Statistic'])\n",
        "\n",
        "# Calculate empirical critical values\n",
        "critical_values = {\n",
        "    '5%': np.percentile(df_adf_stats['ADF Statistic'], 5),\n",
        "}\n",
        "\n",
        "# Define the ADF statistic to visualize\n",
        "adf_statistic_to_visualize = -2.75\n",
        "\n",
        "# Plot the distribution\n",
        "plt.figure(figsize=(10, 6))\n",
        "sns.histplot(df_adf_stats['ADF Statistic'], bins=50, kde=True, color='lightgrey', edgecolor='grey')\n",
        "plt.axvline(critical_values['5%'], color='black', linestyle='--', label='5% Critical Value')\n",
        "plt.axvline(adf_statistic_to_visualize, color='purple', linestyle='-', label=f'ADF Statistic = {adf_statistic_to_visualize}')\n",
        "\n",
        "# Add text annotations for the zones\n",
        "max_y = df_adf_stats['ADF Statistic'].value_counts(bins=50).max()\n",
        "plt.text(-4, max_y / 2, 'Reject H0', horizontalalignment='center', color='black', fontsize=12)\n",
        "plt.text(0, max_y / 2, 'Fail to Reject H0', horizontalalignment='center', color='black', fontsize=12)\n",
        "\n",
        "plt.title('Simulated ADF Test Statistic Distribution')\n",
        "plt.xlabel('ADF Test Statistic')\n",
        "plt.ylabel('Frequency')\n",
        "plt.legend(loc='upper right')\n",
        "plt.show()\n"
      ]
    },
    {
      "cell_type": "markdown",
      "source": [
        "##Estimation\n",
        "---"
      ],
      "metadata": {
        "id": "5K9qvFnF5dY2"
      },
      "id": "5K9qvFnF5dY2"
    },
    {
      "cell_type": "markdown",
      "id": "f569d32d",
      "metadata": {
        "id": "f569d32d"
      },
      "source": [
        "###Preliminary model\n",
        "---\n",
        "\n",
        "\n"
      ]
    },
    {
      "cell_type": "code",
      "execution_count": 259,
      "id": "5601c827",
      "metadata": {
        "id": "5601c827",
        "colab": {
          "base_uri": "https://localhost:8080/"
        },
        "outputId": "caef4902-0dca-4bcc-971e-48bf72ccb195"
      },
      "outputs": [
        {
          "output_type": "stream",
          "name": "stdout",
          "text": [
            "Drive already mounted at /content/drive; to attempt to forcibly remount, call drive.mount(\"/content/drive\", force_remount=True).\n"
          ]
        }
      ],
      "source": [
        "import pandas as pd\n",
        "from google.colab import drive\n",
        "drive.mount('/content/drive')\n",
        "\n",
        "pd.options.display.float_format = '{:,.2f}'.format\n",
        "file_path1 = '/content/drive/My Drive/Portfolio/GPD_Electrical_Consuption/DB_economic_activity.xlsx' # Replace with your actual file path\n",
        "file_path2 = '/content/drive/My Drive/Portfolio/GPD_Electrical_Consuption/DB_electricity.xlsx' # Replace with your actual file path\n",
        "\n",
        "pd.options.display.float_format = '{:,.2f}'.format\n",
        "df_electricity = pd.read_excel(file_path2)\n",
        "df_electricity.set_index('Date',inplace=True)\n",
        "df_electricity = df_electricity[['Ejecutado']]\n",
        "df_electricity.rename(columns = {'Ejecutado':'Electricity'}, inplace = True)\n",
        "\n",
        "df_elect = df_electricity.copy()\n",
        "df_elect = df_elect.resample('Q').sum()\n",
        "df_elect = df_elect.pct_change(4).shift(0)\n",
        "df_elect = df_elect.ffill()*100\n",
        "\n",
        "df_gdp = pd.read_excel(file_path1)\n",
        "df_gdp.set_index('Date',inplace=True)\n",
        "df_gdp = df_gdp[['PN02526AQ']]\n",
        "\n",
        "df_merge = pd.merge(df_elect,df_gdp,left_on='Date',right_on='Date')\n",
        "df_merge.rename(columns = {'Electricity':'Elect_Growth'}, inplace = True)\n",
        "df_merge.rename(columns = {'PN02526AQ':'GDP'}, inplace = True)\n",
        "df_merge['Diff'] = df_merge['Elect_Growth'] - df_merge['GDP']\n",
        "df_merge = df_merge.loc[df_merge.index >= '2007-09-01']\n",
        "df_merge = df_merge.loc[df_merge.index <= '2024-09-30']"
      ]
    },
    {
      "cell_type": "code",
      "source": [
        "import plotly.graph_objects as go\n",
        "import pandas as pd\n",
        "import statsmodels.api as sm\n",
        "\n",
        "# Assuming df_merge is already defined and filtered\n",
        "# Prepare the data\n",
        "t = df_merge.index\n",
        "y = df_merge['GDP'].values\n",
        "x = df_merge['Elect_Growth'].values\n",
        "# x = sm.add_constant(x)\n",
        "\n",
        "# Fit the OLS model\n",
        "model = sm.OLS(y, x).fit()\n",
        "predictions = model.predict(x)\n",
        "summary = model.summary()\n",
        "print(summary)"
      ],
      "metadata": {
        "colab": {
          "base_uri": "https://localhost:8080/"
        },
        "id": "HrXvBvyQO1Cl",
        "outputId": "e794c02b-f08f-4e69-9879-11846b0c0de8"
      },
      "id": "HrXvBvyQO1Cl",
      "execution_count": 260,
      "outputs": [
        {
          "output_type": "stream",
          "name": "stdout",
          "text": [
            "                                 OLS Regression Results                                \n",
            "=======================================================================================\n",
            "Dep. Variable:                      y   R-squared (uncentered):                   0.863\n",
            "Model:                            OLS   Adj. R-squared (uncentered):              0.861\n",
            "Method:                 Least Squares   F-statistic:                              427.2\n",
            "Date:                Fri, 24 Jan 2025   Prob (F-statistic):                    5.00e-31\n",
            "Time:                        21:56:53   Log-Likelihood:                         -174.34\n",
            "No. Observations:                  69   AIC:                                      350.7\n",
            "Df Residuals:                      68   BIC:                                      352.9\n",
            "Df Model:                           1                                                  \n",
            "Covariance Type:            nonrobust                                                  \n",
            "==============================================================================\n",
            "                 coef    std err          t      P>|t|      [0.025      0.975]\n",
            "------------------------------------------------------------------------------\n",
            "x1             0.9938      0.048     20.668      0.000       0.898       1.090\n",
            "==============================================================================\n",
            "Omnibus:                       23.043   Durbin-Watson:                   0.580\n",
            "Prob(Omnibus):                  0.000   Jarque-Bera (JB):               70.807\n",
            "Skew:                           0.890   Prob(JB):                     4.21e-16\n",
            "Kurtosis:                       7.632   Cond. No.                         1.00\n",
            "==============================================================================\n",
            "\n",
            "Notes:\n",
            "[1] R² is computed without centering (uncentered) since the model does not contain a constant.\n",
            "[2] Standard Errors assume that the covariance matrix of the errors is correctly specified.\n"
          ]
        }
      ]
    },
    {
      "cell_type": "code",
      "source": [
        "t = df_merge.index\n",
        "y = df_merge['GDP'].values\n",
        "x = df_merge['Elect_Growth'].values\n",
        "residuals = y - predictions\n",
        "\n",
        "# Create a DataFrame for plotting\n",
        "df_plot = pd.DataFrame({\n",
        "    'Date': t,\n",
        "    'GDP Growth': y,\n",
        "    'Estimated GDP Growth': predictions,\n",
        "    'Residuals': residuals\n",
        "})\n",
        "df_plot.set_index('Date', inplace=True)\n",
        "\n",
        "# Create figure with secondary y-axis\n",
        "fig = make_subplots(specs=[[{\"secondary_y\": True}]])\n",
        "\n",
        "# Add traces\n",
        "fig.add_trace(go.Scatter(x=df_plot.index, y=df_plot['GDP Growth'], name=\"GDP Growth\"), secondary_y=True)\n",
        "fig.add_trace(go.Scatter(x=df_plot.index, y=df_plot['Estimated GDP Growth'], name=\"Estimated GDP Growth\"), secondary_y=True)\n",
        "fig.add_bar(x=df_plot.index, y=df_plot['Residuals'], name=\"Residuals\", secondary_y=False)\n",
        "\n",
        "# Add figure title\n",
        "fig.update_layout(title_text=\"Double Y Axis Example\")\n",
        "\n",
        "# Set y-axes titles\n",
        "fig.update_yaxes(title_text=\"<b>Residuals</b> (%)\", secondary_y=False)\n",
        "fig.update_yaxes(title_text=\"<b>GDP growth and GDP growth estimated</b> (%)\", secondary_y=True)\n",
        "\n",
        "# Update layout for the legend to be at the bottom\n",
        "fig.update_layout(\n",
        "    template='simple_white',\n",
        "    title=\"Nowcasting: Peruvian GDP growth rate\",\n",
        "    legend=dict(\n",
        "        orientation=\"h\",\n",
        "        yanchor=\"bottom\",\n",
        "        y=-0.2,\n",
        "        xanchor=\"center\",\n",
        "        x=0.5\n",
        "    )\n",
        ")\n",
        "\n",
        "# Show the figure\n",
        "fig.show()"
      ],
      "metadata": {
        "colab": {
          "base_uri": "https://localhost:8080/",
          "height": 542
        },
        "id": "VrWhRERmPSjc",
        "outputId": "aeb462bd-5bef-4928-d9c0-3158d74c9cf7"
      },
      "id": "VrWhRERmPSjc",
      "execution_count": 261,
      "outputs": [
        {
          "output_type": "display_data",
          "data": {
            "text/html": [
              "<html>\n",
              "<head><meta charset=\"utf-8\" /></head>\n",
              "<body>\n",
              "    <div>            <script src=\"https://cdnjs.cloudflare.com/ajax/libs/mathjax/2.7.5/MathJax.js?config=TeX-AMS-MML_SVG\"></script><script type=\"text/javascript\">if (window.MathJax && window.MathJax.Hub && window.MathJax.Hub.Config) {window.MathJax.Hub.Config({SVG: {font: \"STIX-Web\"}});}</script>                <script type=\"text/javascript\">window.PlotlyConfig = {MathJaxConfig: 'local'};</script>\n",
              "        <script charset=\"utf-8\" src=\"https://cdn.plot.ly/plotly-2.35.2.min.js\"></script>                <div id=\"ee083ba2-9920-4e4b-abce-a8c504ccb7d9\" class=\"plotly-graph-div\" style=\"height:525px; width:100%;\"></div>            <script type=\"text/javascript\">                                    window.PLOTLYENV=window.PLOTLYENV || {};                                    if (document.getElementById(\"ee083ba2-9920-4e4b-abce-a8c504ccb7d9\")) {                    Plotly.newPlot(                        \"ee083ba2-9920-4e4b-abce-a8c504ccb7d9\",                        [{\"name\":\"GDP Growth\",\"x\":[\"2007-09-30T00:00:00\",\"2007-12-31T00:00:00\",\"2008-03-31T00:00:00\",\"2008-06-30T00:00:00\",\"2008-09-30T00:00:00\",\"2008-12-31T00:00:00\",\"2009-03-31T00:00:00\",\"2009-06-30T00:00:00\",\"2009-09-30T00:00:00\",\"2009-12-31T00:00:00\",\"2010-03-31T00:00:00\",\"2010-06-30T00:00:00\",\"2010-09-30T00:00:00\",\"2010-12-31T00:00:00\",\"2011-03-31T00:00:00\",\"2011-06-30T00:00:00\",\"2011-09-30T00:00:00\",\"2011-12-31T00:00:00\",\"2012-03-31T00:00:00\",\"2012-06-30T00:00:00\",\"2012-09-30T00:00:00\",\"2012-12-31T00:00:00\",\"2013-03-31T00:00:00\",\"2013-06-30T00:00:00\",\"2013-09-30T00:00:00\",\"2013-12-31T00:00:00\",\"2014-03-31T00:00:00\",\"2014-06-30T00:00:00\",\"2014-09-30T00:00:00\",\"2014-12-31T00:00:00\",\"2015-03-31T00:00:00\",\"2015-06-30T00:00:00\",\"2015-09-30T00:00:00\",\"2015-12-31T00:00:00\",\"2016-03-31T00:00:00\",\"2016-06-30T00:00:00\",\"2016-09-30T00:00:00\",\"2016-12-31T00:00:00\",\"2017-03-31T00:00:00\",\"2017-06-30T00:00:00\",\"2017-09-30T00:00:00\",\"2017-12-31T00:00:00\",\"2018-03-31T00:00:00\",\"2018-06-30T00:00:00\",\"2018-09-30T00:00:00\",\"2018-12-31T00:00:00\",\"2019-03-31T00:00:00\",\"2019-06-30T00:00:00\",\"2019-09-30T00:00:00\",\"2019-12-31T00:00:00\",\"2020-03-31T00:00:00\",\"2020-06-30T00:00:00\",\"2020-09-30T00:00:00\",\"2020-12-31T00:00:00\",\"2021-03-31T00:00:00\",\"2021-06-30T00:00:00\",\"2021-09-30T00:00:00\",\"2021-12-31T00:00:00\",\"2022-03-31T00:00:00\",\"2022-06-30T00:00:00\",\"2022-09-30T00:00:00\",\"2022-12-31T00:00:00\",\"2023-03-31T00:00:00\",\"2023-06-30T00:00:00\",\"2023-09-30T00:00:00\",\"2023-12-31T00:00:00\",\"2024-03-31T00:00:00\",\"2024-06-30T00:00:00\",\"2024-09-30T00:00:00\"],\"y\":[10.84158416,11.42435818,10.14555362,10.53228951,9.579498402,6.484208604,2.594043983,-0.733583673,-0.10054479,2.728255331,5.482427184,9.415315464,9.569320606,8.667805338,8.413848901,5.284628592,5.811549511,6.014240397,6.110652705,5.894266942,7.020488315,5.556921084,4.978087957,6.263889574,5.226645464,6.844359568,4.955895437,1.959439128,1.823199583,1.067684337,1.928718024,3.173985246,3.155730112,4.621146887,4.487465016,3.743442463,4.611851767,3.054750187,2.295453486,2.643682434,2.807402115,2.322655595,3.127698227,5.588729188,2.477586936,4.651280018,2.436271553,1.169576152,3.363625765,2.006436132,-3.927511997,-29.93635305,-8.820077879,-1.349605818,4.505739307,42.035076,11.62550311,3.427048485,3.838234033,3.4173363012217,2.04958596750706,2.01492829502384,-0.134584907481559,-0.462385158837459,-0.683925853878113,-0.317168720204458,1.40817412474265,3.63270283967193,3.80365599443122],\"type\":\"scatter\",\"xaxis\":\"x\",\"yaxis\":\"y2\"},{\"name\":\"Estimated GDP Growth\",\"x\":[\"2007-09-30T00:00:00\",\"2007-12-31T00:00:00\",\"2008-03-31T00:00:00\",\"2008-06-30T00:00:00\",\"2008-09-30T00:00:00\",\"2008-12-31T00:00:00\",\"2009-03-31T00:00:00\",\"2009-06-30T00:00:00\",\"2009-09-30T00:00:00\",\"2009-12-31T00:00:00\",\"2010-03-31T00:00:00\",\"2010-06-30T00:00:00\",\"2010-09-30T00:00:00\",\"2010-12-31T00:00:00\",\"2011-03-31T00:00:00\",\"2011-06-30T00:00:00\",\"2011-09-30T00:00:00\",\"2011-12-31T00:00:00\",\"2012-03-31T00:00:00\",\"2012-06-30T00:00:00\",\"2012-09-30T00:00:00\",\"2012-12-31T00:00:00\",\"2013-03-31T00:00:00\",\"2013-06-30T00:00:00\",\"2013-09-30T00:00:00\",\"2013-12-31T00:00:00\",\"2014-03-31T00:00:00\",\"2014-06-30T00:00:00\",\"2014-09-30T00:00:00\",\"2014-12-31T00:00:00\",\"2015-03-31T00:00:00\",\"2015-06-30T00:00:00\",\"2015-09-30T00:00:00\",\"2015-12-31T00:00:00\",\"2016-03-31T00:00:00\",\"2016-06-30T00:00:00\",\"2016-09-30T00:00:00\",\"2016-12-31T00:00:00\",\"2017-03-31T00:00:00\",\"2017-06-30T00:00:00\",\"2017-09-30T00:00:00\",\"2017-12-31T00:00:00\",\"2018-03-31T00:00:00\",\"2018-06-30T00:00:00\",\"2018-09-30T00:00:00\",\"2018-12-31T00:00:00\",\"2019-03-31T00:00:00\",\"2019-06-30T00:00:00\",\"2019-09-30T00:00:00\",\"2019-12-31T00:00:00\",\"2020-03-31T00:00:00\",\"2020-06-30T00:00:00\",\"2020-09-30T00:00:00\",\"2020-12-31T00:00:00\",\"2021-03-31T00:00:00\",\"2021-06-30T00:00:00\",\"2021-09-30T00:00:00\",\"2021-12-31T00:00:00\",\"2022-03-31T00:00:00\",\"2022-06-30T00:00:00\",\"2022-09-30T00:00:00\",\"2022-12-31T00:00:00\",\"2023-03-31T00:00:00\",\"2023-06-30T00:00:00\",\"2023-09-30T00:00:00\",\"2023-12-31T00:00:00\",\"2024-03-31T00:00:00\",\"2024-06-30T00:00:00\",\"2024-09-30T00:00:00\"],\"y\":[9.929194270119066,13.178743117068496,10.385299516926262,10.719872957648061,9.197443814685217,5.258491325927866,1.2149768177279407,-0.19622262063980583,-0.7245291196771506,3.4370593974416823,6.913641756935577,9.347978087137385,9.412090986003117,8.396965333782651,8.814864084670404,8.793142251767492,9.210047857469695,8.541644770358433,6.943766125853754,5.784035008166826,5.877916839317943,5.576386612691573,5.434208467442677,6.754082757368491,6.225175867960468,5.889173197170689,6.286258270104559,5.21478169926421,4.893054695308917,4.884857090825098,4.777777964402011,5.487738588538227,6.325928501610029,9.18770324487609,11.673795864544527,8.198309220207321,8.008970447483915,6.0558408488796145,2.1111107431727207,3.09359520867617,2.340170476961743,0.5567559228993395,1.9523718483707253,3.94629255787215,2.9907788947415024,5.901526523207335,5.6804620601642135,3.8657336616082447,3.9637450118513,2.6439172277839993,-1.6170566843378076,-22.514158080639497,-3.5159399441575445,-0.4100771760778791,2.4486876641675805,30.464922302311013,6.996017604958118,2.999516436628362,3.371230093612629,2.8044380253160415,4.729904353244054,6.054632594825218,5.67815945947696,6.472416731211854,3.217267148425489,1.4570900888692244,3.684188138682611,1.4659638095896241,2.1979216966879136],\"type\":\"scatter\",\"xaxis\":\"x\",\"yaxis\":\"y2\"},{\"name\":\"Residuals\",\"x\":[\"2007-09-30T00:00:00\",\"2007-12-31T00:00:00\",\"2008-03-31T00:00:00\",\"2008-06-30T00:00:00\",\"2008-09-30T00:00:00\",\"2008-12-31T00:00:00\",\"2009-03-31T00:00:00\",\"2009-06-30T00:00:00\",\"2009-09-30T00:00:00\",\"2009-12-31T00:00:00\",\"2010-03-31T00:00:00\",\"2010-06-30T00:00:00\",\"2010-09-30T00:00:00\",\"2010-12-31T00:00:00\",\"2011-03-31T00:00:00\",\"2011-06-30T00:00:00\",\"2011-09-30T00:00:00\",\"2011-12-31T00:00:00\",\"2012-03-31T00:00:00\",\"2012-06-30T00:00:00\",\"2012-09-30T00:00:00\",\"2012-12-31T00:00:00\",\"2013-03-31T00:00:00\",\"2013-06-30T00:00:00\",\"2013-09-30T00:00:00\",\"2013-12-31T00:00:00\",\"2014-03-31T00:00:00\",\"2014-06-30T00:00:00\",\"2014-09-30T00:00:00\",\"2014-12-31T00:00:00\",\"2015-03-31T00:00:00\",\"2015-06-30T00:00:00\",\"2015-09-30T00:00:00\",\"2015-12-31T00:00:00\",\"2016-03-31T00:00:00\",\"2016-06-30T00:00:00\",\"2016-09-30T00:00:00\",\"2016-12-31T00:00:00\",\"2017-03-31T00:00:00\",\"2017-06-30T00:00:00\",\"2017-09-30T00:00:00\",\"2017-12-31T00:00:00\",\"2018-03-31T00:00:00\",\"2018-06-30T00:00:00\",\"2018-09-30T00:00:00\",\"2018-12-31T00:00:00\",\"2019-03-31T00:00:00\",\"2019-06-30T00:00:00\",\"2019-09-30T00:00:00\",\"2019-12-31T00:00:00\",\"2020-03-31T00:00:00\",\"2020-06-30T00:00:00\",\"2020-09-30T00:00:00\",\"2020-12-31T00:00:00\",\"2021-03-31T00:00:00\",\"2021-06-30T00:00:00\",\"2021-09-30T00:00:00\",\"2021-12-31T00:00:00\",\"2022-03-31T00:00:00\",\"2022-06-30T00:00:00\",\"2022-09-30T00:00:00\",\"2022-12-31T00:00:00\",\"2023-03-31T00:00:00\",\"2023-06-30T00:00:00\",\"2023-09-30T00:00:00\",\"2023-12-31T00:00:00\",\"2024-03-31T00:00:00\",\"2024-06-30T00:00:00\",\"2024-09-30T00:00:00\"],\"y\":[0.9123898898809344,-1.7543849370684956,-0.23974589692626225,-0.1875834476480609,0.3820545873147836,1.2257172780721337,1.3790671652720594,-0.5373610523601942,0.6239843296771506,-0.7088040664416821,-1.431214572935577,0.06733737686261598,0.15722961999688323,0.2708400042173498,-0.40101518367040434,-3.508513659767492,-3.3984983464696947,-2.527404373358433,-0.8331134208537545,0.11023193383317409,1.1425714756820566,-0.019465528691573475,-0.45612051044267776,-0.4901931833684907,-0.9985304039604683,0.9551863708293107,-1.3303628331045596,-3.2553425712642103,-3.0698551123089173,-3.8171727538250977,-2.849059940402011,-2.3137533425382273,-3.170198389610029,-4.56655635787609,-7.186330848544527,-4.454866757207321,-3.3971186804839144,-3.0010906618796147,0.18434274282727925,-0.4499127746761702,0.46723163803825685,1.7658996721006606,1.175326378629275,1.6424366301278503,-0.5131919587415026,-1.2502465052073353,-3.2441905071642134,-2.696157509608245,-0.6001192468512997,-0.6374810957839991,-2.3104553126621923,-7.422194969360504,-5.304137934842455,-0.9395286419221208,2.0570516428324193,11.570153697688983,4.629485505041882,0.4275320483716376,0.46700393938737106,0.6128982759056587,-2.680318385736994,-4.039704299801379,-5.812744366958519,-6.934801890049313,-3.901193002303602,-1.7742588090736824,-2.276014013939961,2.1667390300823057,1.6057342977433064],\"type\":\"bar\",\"xaxis\":\"x\",\"yaxis\":\"y\"}],                        {\"template\":{\"data\":{\"barpolar\":[{\"marker\":{\"line\":{\"color\":\"white\",\"width\":0.5},\"pattern\":{\"fillmode\":\"overlay\",\"size\":10,\"solidity\":0.2}},\"type\":\"barpolar\"}],\"bar\":[{\"error_x\":{\"color\":\"rgb(36,36,36)\"},\"error_y\":{\"color\":\"rgb(36,36,36)\"},\"marker\":{\"line\":{\"color\":\"white\",\"width\":0.5},\"pattern\":{\"fillmode\":\"overlay\",\"size\":10,\"solidity\":0.2}},\"type\":\"bar\"}],\"carpet\":[{\"aaxis\":{\"endlinecolor\":\"rgb(36,36,36)\",\"gridcolor\":\"white\",\"linecolor\":\"white\",\"minorgridcolor\":\"white\",\"startlinecolor\":\"rgb(36,36,36)\"},\"baxis\":{\"endlinecolor\":\"rgb(36,36,36)\",\"gridcolor\":\"white\",\"linecolor\":\"white\",\"minorgridcolor\":\"white\",\"startlinecolor\":\"rgb(36,36,36)\"},\"type\":\"carpet\"}],\"choropleth\":[{\"colorbar\":{\"outlinewidth\":1,\"tickcolor\":\"rgb(36,36,36)\",\"ticks\":\"outside\"},\"type\":\"choropleth\"}],\"contourcarpet\":[{\"colorbar\":{\"outlinewidth\":1,\"tickcolor\":\"rgb(36,36,36)\",\"ticks\":\"outside\"},\"type\":\"contourcarpet\"}],\"contour\":[{\"colorbar\":{\"outlinewidth\":1,\"tickcolor\":\"rgb(36,36,36)\",\"ticks\":\"outside\"},\"colorscale\":[[0.0,\"#440154\"],[0.1111111111111111,\"#482878\"],[0.2222222222222222,\"#3e4989\"],[0.3333333333333333,\"#31688e\"],[0.4444444444444444,\"#26828e\"],[0.5555555555555556,\"#1f9e89\"],[0.6666666666666666,\"#35b779\"],[0.7777777777777778,\"#6ece58\"],[0.8888888888888888,\"#b5de2b\"],[1.0,\"#fde725\"]],\"type\":\"contour\"}],\"heatmapgl\":[{\"colorbar\":{\"outlinewidth\":1,\"tickcolor\":\"rgb(36,36,36)\",\"ticks\":\"outside\"},\"colorscale\":[[0.0,\"#440154\"],[0.1111111111111111,\"#482878\"],[0.2222222222222222,\"#3e4989\"],[0.3333333333333333,\"#31688e\"],[0.4444444444444444,\"#26828e\"],[0.5555555555555556,\"#1f9e89\"],[0.6666666666666666,\"#35b779\"],[0.7777777777777778,\"#6ece58\"],[0.8888888888888888,\"#b5de2b\"],[1.0,\"#fde725\"]],\"type\":\"heatmapgl\"}],\"heatmap\":[{\"colorbar\":{\"outlinewidth\":1,\"tickcolor\":\"rgb(36,36,36)\",\"ticks\":\"outside\"},\"colorscale\":[[0.0,\"#440154\"],[0.1111111111111111,\"#482878\"],[0.2222222222222222,\"#3e4989\"],[0.3333333333333333,\"#31688e\"],[0.4444444444444444,\"#26828e\"],[0.5555555555555556,\"#1f9e89\"],[0.6666666666666666,\"#35b779\"],[0.7777777777777778,\"#6ece58\"],[0.8888888888888888,\"#b5de2b\"],[1.0,\"#fde725\"]],\"type\":\"heatmap\"}],\"histogram2dcontour\":[{\"colorbar\":{\"outlinewidth\":1,\"tickcolor\":\"rgb(36,36,36)\",\"ticks\":\"outside\"},\"colorscale\":[[0.0,\"#440154\"],[0.1111111111111111,\"#482878\"],[0.2222222222222222,\"#3e4989\"],[0.3333333333333333,\"#31688e\"],[0.4444444444444444,\"#26828e\"],[0.5555555555555556,\"#1f9e89\"],[0.6666666666666666,\"#35b779\"],[0.7777777777777778,\"#6ece58\"],[0.8888888888888888,\"#b5de2b\"],[1.0,\"#fde725\"]],\"type\":\"histogram2dcontour\"}],\"histogram2d\":[{\"colorbar\":{\"outlinewidth\":1,\"tickcolor\":\"rgb(36,36,36)\",\"ticks\":\"outside\"},\"colorscale\":[[0.0,\"#440154\"],[0.1111111111111111,\"#482878\"],[0.2222222222222222,\"#3e4989\"],[0.3333333333333333,\"#31688e\"],[0.4444444444444444,\"#26828e\"],[0.5555555555555556,\"#1f9e89\"],[0.6666666666666666,\"#35b779\"],[0.7777777777777778,\"#6ece58\"],[0.8888888888888888,\"#b5de2b\"],[1.0,\"#fde725\"]],\"type\":\"histogram2d\"}],\"histogram\":[{\"marker\":{\"line\":{\"color\":\"white\",\"width\":0.6}},\"type\":\"histogram\"}],\"mesh3d\":[{\"colorbar\":{\"outlinewidth\":1,\"tickcolor\":\"rgb(36,36,36)\",\"ticks\":\"outside\"},\"type\":\"mesh3d\"}],\"parcoords\":[{\"line\":{\"colorbar\":{\"outlinewidth\":1,\"tickcolor\":\"rgb(36,36,36)\",\"ticks\":\"outside\"}},\"type\":\"parcoords\"}],\"pie\":[{\"automargin\":true,\"type\":\"pie\"}],\"scatter3d\":[{\"line\":{\"colorbar\":{\"outlinewidth\":1,\"tickcolor\":\"rgb(36,36,36)\",\"ticks\":\"outside\"}},\"marker\":{\"colorbar\":{\"outlinewidth\":1,\"tickcolor\":\"rgb(36,36,36)\",\"ticks\":\"outside\"}},\"type\":\"scatter3d\"}],\"scattercarpet\":[{\"marker\":{\"colorbar\":{\"outlinewidth\":1,\"tickcolor\":\"rgb(36,36,36)\",\"ticks\":\"outside\"}},\"type\":\"scattercarpet\"}],\"scattergeo\":[{\"marker\":{\"colorbar\":{\"outlinewidth\":1,\"tickcolor\":\"rgb(36,36,36)\",\"ticks\":\"outside\"}},\"type\":\"scattergeo\"}],\"scattergl\":[{\"marker\":{\"colorbar\":{\"outlinewidth\":1,\"tickcolor\":\"rgb(36,36,36)\",\"ticks\":\"outside\"}},\"type\":\"scattergl\"}],\"scattermapbox\":[{\"marker\":{\"colorbar\":{\"outlinewidth\":1,\"tickcolor\":\"rgb(36,36,36)\",\"ticks\":\"outside\"}},\"type\":\"scattermapbox\"}],\"scatterpolargl\":[{\"marker\":{\"colorbar\":{\"outlinewidth\":1,\"tickcolor\":\"rgb(36,36,36)\",\"ticks\":\"outside\"}},\"type\":\"scatterpolargl\"}],\"scatterpolar\":[{\"marker\":{\"colorbar\":{\"outlinewidth\":1,\"tickcolor\":\"rgb(36,36,36)\",\"ticks\":\"outside\"}},\"type\":\"scatterpolar\"}],\"scatter\":[{\"fillpattern\":{\"fillmode\":\"overlay\",\"size\":10,\"solidity\":0.2},\"type\":\"scatter\"}],\"scatterternary\":[{\"marker\":{\"colorbar\":{\"outlinewidth\":1,\"tickcolor\":\"rgb(36,36,36)\",\"ticks\":\"outside\"}},\"type\":\"scatterternary\"}],\"surface\":[{\"colorbar\":{\"outlinewidth\":1,\"tickcolor\":\"rgb(36,36,36)\",\"ticks\":\"outside\"},\"colorscale\":[[0.0,\"#440154\"],[0.1111111111111111,\"#482878\"],[0.2222222222222222,\"#3e4989\"],[0.3333333333333333,\"#31688e\"],[0.4444444444444444,\"#26828e\"],[0.5555555555555556,\"#1f9e89\"],[0.6666666666666666,\"#35b779\"],[0.7777777777777778,\"#6ece58\"],[0.8888888888888888,\"#b5de2b\"],[1.0,\"#fde725\"]],\"type\":\"surface\"}],\"table\":[{\"cells\":{\"fill\":{\"color\":\"rgb(237,237,237)\"},\"line\":{\"color\":\"white\"}},\"header\":{\"fill\":{\"color\":\"rgb(217,217,217)\"},\"line\":{\"color\":\"white\"}},\"type\":\"table\"}]},\"layout\":{\"annotationdefaults\":{\"arrowhead\":0,\"arrowwidth\":1},\"autotypenumbers\":\"strict\",\"coloraxis\":{\"colorbar\":{\"outlinewidth\":1,\"tickcolor\":\"rgb(36,36,36)\",\"ticks\":\"outside\"}},\"colorscale\":{\"diverging\":[[0.0,\"rgb(103,0,31)\"],[0.1,\"rgb(178,24,43)\"],[0.2,\"rgb(214,96,77)\"],[0.3,\"rgb(244,165,130)\"],[0.4,\"rgb(253,219,199)\"],[0.5,\"rgb(247,247,247)\"],[0.6,\"rgb(209,229,240)\"],[0.7,\"rgb(146,197,222)\"],[0.8,\"rgb(67,147,195)\"],[0.9,\"rgb(33,102,172)\"],[1.0,\"rgb(5,48,97)\"]],\"sequential\":[[0.0,\"#440154\"],[0.1111111111111111,\"#482878\"],[0.2222222222222222,\"#3e4989\"],[0.3333333333333333,\"#31688e\"],[0.4444444444444444,\"#26828e\"],[0.5555555555555556,\"#1f9e89\"],[0.6666666666666666,\"#35b779\"],[0.7777777777777778,\"#6ece58\"],[0.8888888888888888,\"#b5de2b\"],[1.0,\"#fde725\"]],\"sequentialminus\":[[0.0,\"#440154\"],[0.1111111111111111,\"#482878\"],[0.2222222222222222,\"#3e4989\"],[0.3333333333333333,\"#31688e\"],[0.4444444444444444,\"#26828e\"],[0.5555555555555556,\"#1f9e89\"],[0.6666666666666666,\"#35b779\"],[0.7777777777777778,\"#6ece58\"],[0.8888888888888888,\"#b5de2b\"],[1.0,\"#fde725\"]]},\"colorway\":[\"#1F77B4\",\"#FF7F0E\",\"#2CA02C\",\"#D62728\",\"#9467BD\",\"#8C564B\",\"#E377C2\",\"#7F7F7F\",\"#BCBD22\",\"#17BECF\"],\"font\":{\"color\":\"rgb(36,36,36)\"},\"geo\":{\"bgcolor\":\"white\",\"lakecolor\":\"white\",\"landcolor\":\"white\",\"showlakes\":true,\"showland\":true,\"subunitcolor\":\"white\"},\"hoverlabel\":{\"align\":\"left\"},\"hovermode\":\"closest\",\"mapbox\":{\"style\":\"light\"},\"paper_bgcolor\":\"white\",\"plot_bgcolor\":\"white\",\"polar\":{\"angularaxis\":{\"gridcolor\":\"rgb(232,232,232)\",\"linecolor\":\"rgb(36,36,36)\",\"showgrid\":false,\"showline\":true,\"ticks\":\"outside\"},\"bgcolor\":\"white\",\"radialaxis\":{\"gridcolor\":\"rgb(232,232,232)\",\"linecolor\":\"rgb(36,36,36)\",\"showgrid\":false,\"showline\":true,\"ticks\":\"outside\"}},\"scene\":{\"xaxis\":{\"backgroundcolor\":\"white\",\"gridcolor\":\"rgb(232,232,232)\",\"gridwidth\":2,\"linecolor\":\"rgb(36,36,36)\",\"showbackground\":true,\"showgrid\":false,\"showline\":true,\"ticks\":\"outside\",\"zeroline\":false,\"zerolinecolor\":\"rgb(36,36,36)\"},\"yaxis\":{\"backgroundcolor\":\"white\",\"gridcolor\":\"rgb(232,232,232)\",\"gridwidth\":2,\"linecolor\":\"rgb(36,36,36)\",\"showbackground\":true,\"showgrid\":false,\"showline\":true,\"ticks\":\"outside\",\"zeroline\":false,\"zerolinecolor\":\"rgb(36,36,36)\"},\"zaxis\":{\"backgroundcolor\":\"white\",\"gridcolor\":\"rgb(232,232,232)\",\"gridwidth\":2,\"linecolor\":\"rgb(36,36,36)\",\"showbackground\":true,\"showgrid\":false,\"showline\":true,\"ticks\":\"outside\",\"zeroline\":false,\"zerolinecolor\":\"rgb(36,36,36)\"}},\"shapedefaults\":{\"fillcolor\":\"black\",\"line\":{\"width\":0},\"opacity\":0.3},\"ternary\":{\"aaxis\":{\"gridcolor\":\"rgb(232,232,232)\",\"linecolor\":\"rgb(36,36,36)\",\"showgrid\":false,\"showline\":true,\"ticks\":\"outside\"},\"baxis\":{\"gridcolor\":\"rgb(232,232,232)\",\"linecolor\":\"rgb(36,36,36)\",\"showgrid\":false,\"showline\":true,\"ticks\":\"outside\"},\"bgcolor\":\"white\",\"caxis\":{\"gridcolor\":\"rgb(232,232,232)\",\"linecolor\":\"rgb(36,36,36)\",\"showgrid\":false,\"showline\":true,\"ticks\":\"outside\"}},\"title\":{\"x\":0.05},\"xaxis\":{\"automargin\":true,\"gridcolor\":\"rgb(232,232,232)\",\"linecolor\":\"rgb(36,36,36)\",\"showgrid\":false,\"showline\":true,\"ticks\":\"outside\",\"title\":{\"standoff\":15},\"zeroline\":false,\"zerolinecolor\":\"rgb(36,36,36)\"},\"yaxis\":{\"automargin\":true,\"gridcolor\":\"rgb(232,232,232)\",\"linecolor\":\"rgb(36,36,36)\",\"showgrid\":false,\"showline\":true,\"ticks\":\"outside\",\"title\":{\"standoff\":15},\"zeroline\":false,\"zerolinecolor\":\"rgb(36,36,36)\"}}},\"xaxis\":{\"anchor\":\"y\",\"domain\":[0.0,0.94]},\"yaxis\":{\"anchor\":\"x\",\"domain\":[0.0,1.0],\"title\":{\"text\":\"\\u003cb\\u003eResiduals\\u003c\\u002fb\\u003e (%)\"}},\"yaxis2\":{\"anchor\":\"x\",\"overlaying\":\"y\",\"side\":\"right\",\"title\":{\"text\":\"\\u003cb\\u003eGDP growth and GDP growth estimated\\u003c\\u002fb\\u003e (%)\"}},\"title\":{\"text\":\"Nowcasting: Peruvian GDP growth rate\"},\"legend\":{\"orientation\":\"h\",\"yanchor\":\"bottom\",\"y\":-0.2,\"xanchor\":\"center\",\"x\":0.5}},                        {\"responsive\": true}                    ).then(function(){\n",
              "                            \n",
              "var gd = document.getElementById('ee083ba2-9920-4e4b-abce-a8c504ccb7d9');\n",
              "var x = new MutationObserver(function (mutations, observer) {{\n",
              "        var display = window.getComputedStyle(gd).display;\n",
              "        if (!display || display === 'none') {{\n",
              "            console.log([gd, 'removed!']);\n",
              "            Plotly.purge(gd);\n",
              "            observer.disconnect();\n",
              "        }}\n",
              "}});\n",
              "\n",
              "// Listen for the removal of the full notebook cells\n",
              "var notebookContainer = gd.closest('#notebook-container');\n",
              "if (notebookContainer) {{\n",
              "    x.observe(notebookContainer, {childList: true});\n",
              "}}\n",
              "\n",
              "// Listen for the clearing of the current output cell\n",
              "var outputEl = gd.closest('.output');\n",
              "if (outputEl) {{\n",
              "    x.observe(outputEl, {childList: true});\n",
              "}}\n",
              "\n",
              "                        })                };                            </script>        </div>\n",
              "</body>\n",
              "</html>"
            ]
          },
          "metadata": {}
        }
      ]
    },
    {
      "cell_type": "code",
      "source": [
        "import statsmodels.api as sm\n",
        "\n",
        "# Assuming df_merge and the OLS model are already defined as in the previous code\n",
        "\n",
        "# Fit the OLS model\n",
        "model = sm.OLS(y, x).fit()\n",
        "\n",
        "# Perform the Breusch-Godfrey test for autocorrelation\n",
        "bg_test = sm.stats.diagnostic.acorr_breusch_godfrey(model, nlags=1) # nlags specifies the number of lags to test\n",
        "\n",
        "\n",
        "# Print the test results\n",
        "print(\"Breusch-Godfrey Test for Autocorrelation:\")\n",
        "print(\"LM Statistic:\", bg_test[0])\n",
        "print(\"p-value:\", bg_test[1])\n",
        "print(\"Degrees of Freedom:\", bg_test[2])\n",
        "print(\"Expected Value:\", bg_test[3])\n",
        "\n",
        "\n",
        "# Interpret the results\n",
        "alpha = 0.05\n",
        "if bg_test[1] < alpha:\n",
        "  print(\"\\nReject the null hypothesis: There is evidence of autocorrelation in the residuals.\")\n",
        "else:\n",
        "  print(\"\\nFail to reject the null hypothesis: There is no evidence of autocorrelation in the residuals.\")"
      ],
      "metadata": {
        "colab": {
          "base_uri": "https://localhost:8080/"
        },
        "id": "8_SIPHxCnAzc",
        "outputId": "28c80207-3bfa-41b3-ad72-a765f3b39df2"
      },
      "id": "8_SIPHxCnAzc",
      "execution_count": 262,
      "outputs": [
        {
          "output_type": "stream",
          "name": "stdout",
          "text": [
            "Breusch-Godfrey Test for Autocorrelation:\n",
            "LM Statistic: 36.26054084954948\n",
            "p-value: 1.7262381050523032e-09\n",
            "Degrees of Freedom: 54.397995453524764\n",
            "Expected Value: 3.468293881948384e-10\n",
            "\n",
            "Reject the null hypothesis: There is evidence of autocorrelation in the residuals.\n"
          ]
        }
      ]
    },
    {
      "cell_type": "markdown",
      "source": [
        "###Diagnostic Checking"
      ],
      "metadata": {
        "id": "E_eZPqge5vmv"
      },
      "id": "E_eZPqge5vmv"
    },
    {
      "cell_type": "markdown",
      "source": [
        "##Model Optimizing\n",
        "---"
      ],
      "metadata": {
        "id": "QpUuVvRirTMN"
      },
      "id": "QpUuVvRirTMN"
    },
    {
      "cell_type": "code",
      "source": [
        "import pandas as pd\n",
        "from statsmodels.tsa.arima.model import ARIMA\n",
        "import warnings\n",
        "\n",
        "# Ignore warnings\n",
        "warnings.filterwarnings(\"ignore\")\n",
        "\n",
        "# Prepare the data\n",
        "y = df_merge['GDP'].values  # Dependent variable (time series)\n",
        "x = df_merge['Elect_Growth'].values  # Exogenous variable\n",
        "\n",
        "# Range for p, d, q values\n",
        "p_range = range(0, 3)  # Adjust the range as needed\n",
        "d_range = range(0, 2)\n",
        "q_range = range(0, 3)\n",
        "\n",
        "# Store results\n",
        "best_aic = float(\"inf\")\n",
        "best_bic = float(\"inf\")\n",
        "best_order = None\n",
        "best_model = None\n",
        "\n",
        "# Loop to test different combinations of (p, d, q)\n",
        "for p in p_range:\n",
        "    for d in d_range:\n",
        "        for q in q_range:\n",
        "            try:\n",
        "                # Fit the ARIMA model\n",
        "                model = ARIMA(y, order=(p, d, q), exog=x, trend='n')  # Without constant\n",
        "                model_fit = model.fit()\n",
        "\n",
        "                # Compare AIC and BIC\n",
        "                if model_fit.aic < best_aic:\n",
        "                    best_aic = model_fit.aic\n",
        "                    best_bic = model_fit.bic\n",
        "                    best_order = (p, d, q)\n",
        "                    best_model = model_fit\n",
        "\n",
        "            except Exception as e:\n",
        "                # Ignore combinations that do not converge\n",
        "                continue\n",
        "\n",
        "# Best model results\n",
        "print(f\"Best ARIMA order (p, d, q): {best_order}\")\n",
        "print(f\"Best AIC: {best_aic}\")\n",
        "print(f\"Best BIC: {best_bic}\")\n",
        "print(best_model.summary())\n"
      ],
      "metadata": {
        "colab": {
          "base_uri": "https://localhost:8080/"
        },
        "id": "h47fs5B3rK4d",
        "outputId": "658195ea-f063-4eff-f2b5-04545ce9c942"
      },
      "id": "h47fs5B3rK4d",
      "execution_count": 263,
      "outputs": [
        {
          "output_type": "stream",
          "name": "stdout",
          "text": [
            "Best ARIMA order (p, d, q): (2, 1, 1)\n",
            "Best AIC: 281.29728061824693\n",
            "Best BIC: 292.39481914412744\n",
            "                               SARIMAX Results                                \n",
            "==============================================================================\n",
            "Dep. Variable:                      y   No. Observations:                   69\n",
            "Model:                 ARIMA(2, 1, 1)   Log Likelihood                -135.649\n",
            "Date:                Fri, 24 Jan 2025   AIC                            281.297\n",
            "Time:                        21:56:57   BIC                            292.395\n",
            "Sample:                             0   HQIC                           285.694\n",
            "                                 - 69                                         \n",
            "Covariance Type:                  opg                                         \n",
            "==============================================================================\n",
            "                 coef    std err          z      P>|z|      [0.025      0.975]\n",
            "------------------------------------------------------------------------------\n",
            "x1             1.1949      0.028     43.258      0.000       1.141       1.249\n",
            "ar.L1          0.9277      0.148      6.287      0.000       0.638       1.217\n",
            "ar.L2         -0.2434      0.171     -1.425      0.154      -0.578       0.091\n",
            "ma.L1         -0.9999     31.362     -0.032      0.975     -62.469      60.469\n",
            "sigma2         3.0329     95.072      0.032      0.975    -183.304     189.370\n",
            "===================================================================================\n",
            "Ljung-Box (L1) (Q):                   0.11   Jarque-Bera (JB):                 2.06\n",
            "Prob(Q):                              0.75   Prob(JB):                         0.36\n",
            "Heteroskedasticity (H):               2.48   Skew:                             0.41\n",
            "Prob(H) (two-sided):                  0.03   Kurtosis:                         3.23\n",
            "===================================================================================\n",
            "\n",
            "Warnings:\n",
            "[1] Covariance matrix calculated using the outer product of gradients (complex-step).\n"
          ]
        }
      ]
    },
    {
      "cell_type": "code",
      "source": [
        "import pandas as pd\n",
        "from statsmodels.tsa.arima.model import ARIMA\n",
        "import warnings\n",
        "\n",
        "# Ignore warnings\n",
        "warnings.filterwarnings(\"ignore\")\n",
        "\n",
        "# Prepare the data (already stationary as growth rates)\n",
        "y = df_merge['GDP'].values  # Dependent variable (time series, growth rates)\n",
        "x = df_merge['Elect_Growth'].values  # Exogenous variable (growth rates)\n",
        "\n",
        "# Range for p and q values (without differencing d=0)\n",
        "p_range = range(0, 3)\n",
        "q_range = range(0, 3)\n",
        "\n",
        "# Store results\n",
        "best_aic = float(\"inf\")\n",
        "best_bic = float(\"inf\")\n",
        "best_order = None\n",
        "best_model = None\n",
        "\n",
        "# Loop to test different combinations of (p, q)\n",
        "for p in p_range:\n",
        "    for q in q_range:\n",
        "        try:\n",
        "            # Fit ARIMA model without differencing (d=0)\n",
        "            model = ARIMA(y, order=(p, 0, q), exog=x, trend='n')  # Without constant\n",
        "            model_fit = model.fit()\n",
        "\n",
        "            # Compare AIC and BIC\n",
        "            if model_fit.aic < best_aic:\n",
        "                best_aic = model_fit.aic\n",
        "                best_bic = model_fit.bic\n",
        "                best_order = (p, 0, q)\n",
        "                best_model = model_fit\n",
        "\n",
        "        except Exception as e:\n",
        "            # Skip combinations that do not converge\n",
        "            continue\n",
        "\n",
        "# Best model results\n",
        "print(f\"Best ARIMA order (p, 0, q): {best_order}\")\n",
        "print(f\"Best AIC: {best_aic}\")\n",
        "print(f\"Best BIC: {best_bic}\")\n",
        "print(best_model.summary())\n"
      ],
      "metadata": {
        "colab": {
          "base_uri": "https://localhost:8080/"
        },
        "id": "m7hyp3COszJf",
        "outputId": "3aebcd7c-d39c-4227-f0d6-a5f48d680cac"
      },
      "id": "m7hyp3COszJf",
      "execution_count": 264,
      "outputs": [
        {
          "output_type": "stream",
          "name": "stdout",
          "text": [
            "Best ARIMA order (p, 0, q): (2, 0, 0)\n",
            "Best AIC: 286.34662476902093\n",
            "Best BIC: 295.28305078741\n",
            "                               SARIMAX Results                                \n",
            "==============================================================================\n",
            "Dep. Variable:                      y   No. Observations:                   69\n",
            "Model:                 ARIMA(2, 0, 0)   Log Likelihood                -139.173\n",
            "Date:                Fri, 24 Jan 2025   AIC                            286.347\n",
            "Time:                        21:57:00   BIC                            295.283\n",
            "Sample:                             0   HQIC                           289.892\n",
            "                                 - 69                                         \n",
            "Covariance Type:                  opg                                         \n",
            "==============================================================================\n",
            "                 coef    std err          z      P>|z|      [0.025      0.975]\n",
            "------------------------------------------------------------------------------\n",
            "x1             1.1877      0.025     46.920      0.000       1.138       1.237\n",
            "ar.L1          0.9841      0.124      7.942      0.000       0.741       1.227\n",
            "ar.L2         -0.1841      0.150     -1.229      0.219      -0.478       0.110\n",
            "sigma2         3.2483      0.611      5.319      0.000       2.051       4.445\n",
            "===================================================================================\n",
            "Ljung-Box (L1) (Q):                   0.20   Jarque-Bera (JB):                 1.94\n",
            "Prob(Q):                              0.65   Prob(JB):                         0.38\n",
            "Heteroskedasticity (H):               2.37   Skew:                             0.41\n",
            "Prob(H) (two-sided):                  0.04   Kurtosis:                         3.06\n",
            "===================================================================================\n",
            "\n",
            "Warnings:\n",
            "[1] Covariance matrix calculated using the outer product of gradients (complex-step).\n"
          ]
        }
      ]
    },
    {
      "cell_type": "markdown",
      "source": [
        "### Pre processing"
      ],
      "metadata": {
        "id": "kfj9nhuouspb"
      },
      "id": "kfj9nhuouspb"
    },
    {
      "cell_type": "code",
      "source": [
        "import pandas as pd\n",
        "from google.colab import drive\n",
        "drive.mount('/content/drive')\n",
        "\n",
        "pd.options.display.float_format = '{:,.2f}'.format\n",
        "file_path1 = '/content/drive/My Drive/Portfolio/GPD_Electrical_Consuption/DB_economic_activity.xlsx' # Replace with your actual file path\n",
        "file_path2 = '/content/drive/My Drive/Portfolio/GPD_Electrical_Consuption/DB_electricity.xlsx' # Replace with your actual file path\n",
        "\n",
        "pd.options.display.float_format = '{:,.2f}'.format\n",
        "df_electricity = pd.read_excel(file_path2)\n",
        "df_electricity.set_index('Date',inplace=True)\n",
        "df_electricity = df_electricity[['Ejecutado']]\n",
        "df_electricity.rename(columns = {'Ejecutado':'Electricity'}, inplace = True)\n",
        "\n",
        "df_elect = df_electricity.copy()\n",
        "df_elect = df_elect.resample('Q').sum()\n",
        "df_elect = df_elect.pct_change(4).shift(0)\n",
        "df_elect = df_elect.ffill()*100\n",
        "\n",
        "df_gdp = pd.read_excel(file_path1)\n",
        "df_gdp.set_index('Date',inplace=True)\n",
        "df_gdp = df_gdp[['PN02526AQ']]\n",
        "\n",
        "df_merge = pd.merge(df_elect,df_gdp,left_on='Date',right_on='Date')\n",
        "df_merge.rename(columns = {'Electricity':'Elect_Growth'}, inplace = True)\n",
        "df_merge.rename(columns = {'PN02526AQ':'GDP'}, inplace = True)\n",
        "df_merge['Diff'] = df_merge['Elect_Growth'] - df_merge['GDP']\n",
        "df_merge = df_merge.loc[df_merge.index >= '2007-09-01']\n",
        "df_merge = df_merge.loc[df_merge.index <= '2024-09-30']"
      ],
      "metadata": {
        "colab": {
          "base_uri": "https://localhost:8080/"
        },
        "id": "xCrBc4vT27Si",
        "outputId": "92fe1ed5-98d3-41a2-d2bc-7b3aefe22609"
      },
      "id": "xCrBc4vT27Si",
      "execution_count": 265,
      "outputs": [
        {
          "output_type": "stream",
          "name": "stdout",
          "text": [
            "Drive already mounted at /content/drive; to attempt to forcibly remount, call drive.mount(\"/content/drive\", force_remount=True).\n"
          ]
        }
      ]
    },
    {
      "cell_type": "markdown",
      "source": [
        "###Final Model\n",
        "---"
      ],
      "metadata": {
        "id": "VU3BEMXwuyzl"
      },
      "id": "VU3BEMXwuyzl"
    },
    {
      "cell_type": "code",
      "execution_count": 266,
      "id": "db415afb",
      "metadata": {
        "id": "db415afb",
        "colab": {
          "base_uri": "https://localhost:8080/"
        },
        "outputId": "62bc2da1-585d-4215-d740-3f74ea6b1b0b"
      },
      "outputs": [
        {
          "output_type": "stream",
          "name": "stdout",
          "text": [
            "                               SARIMAX Results                                \n",
            "==============================================================================\n",
            "Dep. Variable:                      y   No. Observations:                   69\n",
            "Model:                 ARIMA(2, 0, 0)   Log Likelihood                -139.173\n",
            "Date:                Fri, 24 Jan 2025   AIC                            286.347\n",
            "Time:                        21:57:31   BIC                            295.283\n",
            "Sample:                             0   HQIC                           289.892\n",
            "                                 - 69                                         \n",
            "Covariance Type:                  opg                                         \n",
            "==============================================================================\n",
            "                 coef    std err          z      P>|z|      [0.025      0.975]\n",
            "------------------------------------------------------------------------------\n",
            "x1             1.1877      0.025     46.920      0.000       1.138       1.237\n",
            "ar.L1          0.9841      0.124      7.942      0.000       0.741       1.227\n",
            "ar.L2         -0.1841      0.150     -1.229      0.219      -0.478       0.110\n",
            "sigma2         3.2483      0.611      5.319      0.000       2.051       4.445\n",
            "===================================================================================\n",
            "Ljung-Box (L1) (Q):                   0.20   Jarque-Bera (JB):                 1.94\n",
            "Prob(Q):                              0.65   Prob(JB):                         0.38\n",
            "Heteroskedasticity (H):               2.37   Skew:                             0.41\n",
            "Prob(H) (two-sided):                  0.04   Kurtosis:                         3.06\n",
            "===================================================================================\n",
            "\n",
            "Warnings:\n",
            "[1] Covariance matrix calculated using the outer product of gradients (complex-step).\n"
          ]
        }
      ],
      "source": [
        "import plotly.graph_objects as go\n",
        "import pandas as pd\n",
        "from statsmodels.tsa.arima.model import ARIMA\n",
        "from plotly.subplots import make_subplots\n",
        "\n",
        "t = df_merge.index\n",
        "y = df_merge['GDP'].values\n",
        "x = df_merge['Elect_Growth'].values\n",
        "\n",
        "order = (2, 0, 0)\n",
        "model = ARIMA(y, order=order, exog=x, trend='n')\n",
        "\n",
        "model_fit = model.fit()\n",
        "\n",
        "predictions = model_fit.predict(start=0, end=len(y)-1, exog=x, dynamic=False)\n",
        "residuals = y - predictions\n",
        "\n",
        "summary = model_fit.summary()\n",
        "print(summary)\n"
      ]
    },
    {
      "cell_type": "markdown",
      "source": [
        "### Diagram"
      ],
      "metadata": {
        "id": "7odnP7QMu1Fd"
      },
      "id": "7odnP7QMu1Fd"
    },
    {
      "cell_type": "code",
      "source": [
        "bg_test_arima = sm.stats.diagnostic.acorr_breusch_godfrey(model_fit, nlags=1)\n",
        "\n",
        "# Print the test results for the ARIMA model\n",
        "print(\"\\nBreusch-Godfrey Test for Autocorrelation (ARIMA Model):\")\n",
        "print(\"LM Statistic:\", bg_test_arima[0])\n",
        "print(\"p-value:\", bg_test_arima[1])\n",
        "print(\"Degrees of Freedom:\", bg_test_arima[2])\n",
        "print(\"Expected Value:\", bg_test_arima[3])\n",
        "\n",
        "# Interpret the results for the ARIMA model\n",
        "alpha = 0.05\n",
        "if bg_test_arima[1] < alpha:\n",
        "    print(\"\\nReject the null hypothesis: There is evidence of autocorrelation in the ARIMA model residuals.\")\n",
        "else:\n",
        "    print(\"\\nFail to reject the null hypothesis: There is no evidence of autocorrelation in the ARIMA model residuals.\")"
      ],
      "metadata": {
        "colab": {
          "base_uri": "https://localhost:8080/"
        },
        "id": "K5JJU2zKo7-q",
        "outputId": "563b1c59-ce1f-42a1-d505-4cdd67b8a5a9"
      },
      "id": "K5JJU2zKo7-q",
      "execution_count": 267,
      "outputs": [
        {
          "output_type": "stream",
          "name": "stdout",
          "text": [
            "\n",
            "Breusch-Godfrey Test for Autocorrelation (ARIMA Model):\n",
            "LM Statistic: 0.23007396170761507\n",
            "p-value: 0.631468992426986\n",
            "Degrees of Freedom: 0.1489334288998848\n",
            "Expected Value: 0.7007979075737234\n",
            "\n",
            "Fail to reject the null hypothesis: There is no evidence of autocorrelation in the ARIMA model residuals.\n"
          ]
        }
      ]
    },
    {
      "cell_type": "code",
      "source": [
        "import plotly.graph_objects as go\n",
        "from plotly.subplots import make_subplots\n",
        "\n",
        "# Create figure with secondary y-axis\n",
        "fig = make_subplots(specs=[[{\"secondary_y\": True}]])\n",
        "\n",
        "# Add traces\n",
        "fig.add_trace(go.Scatter(x=df_plot.index, y=df_plot['GDP Growth'], name=\"GDP Growth\"), secondary_y=True)\n",
        "fig.add_trace(go.Scatter(x=df_plot.index, y=df_plot['Estimated GDP Growth'], name=\"Estimated GDP Growth\"), secondary_y=True)\n",
        "fig.add_bar(x=df_plot.index, y=df_plot['Residuals'], name=\"Residuals\", secondary_y=False)\n",
        "\n",
        "# Add figure title\n",
        "fig.update_layout(title_text=\"Double Y Axis Example\")\n",
        "\n",
        "# # Set x-axis title\n",
        "# fig.update_xaxes(title_text=\"Year\")\n",
        "\n",
        "# Set y-axes titles\n",
        "fig.update_yaxes(title_text=\"<b>Residuals</b> (%)\", secondary_y=False)\n",
        "fig.update_yaxes(title_text=\"<b>GDP growth and GDP growth estimated</b> (%)\", secondary_y=True)\n",
        "\n",
        "# Update layout for the legend to be at the bottom\n",
        "fig.update_layout(\n",
        "    template='simple_white',\n",
        "    title=\"Nowcasting: Peruvian GDP growth rate\",\n",
        "    legend=dict(\n",
        "        orientation=\"h\",\n",
        "        yanchor=\"bottom\",\n",
        "        y=-0.2,\n",
        "        xanchor=\"center\",\n",
        "        x=0.5\n",
        "    )\n",
        ")\n",
        "\n",
        "# Show the figure\n",
        "fig.show()\n",
        "plt.show()\n"
      ],
      "metadata": {
        "colab": {
          "base_uri": "https://localhost:8080/",
          "height": 542
        },
        "id": "LOeboQslmMk3",
        "outputId": "35534699-6e59-497c-e9e4-0b13e310272b"
      },
      "id": "LOeboQslmMk3",
      "execution_count": 270,
      "outputs": [
        {
          "output_type": "display_data",
          "data": {
            "text/html": [
              "<html>\n",
              "<head><meta charset=\"utf-8\" /></head>\n",
              "<body>\n",
              "    <div>            <script src=\"https://cdnjs.cloudflare.com/ajax/libs/mathjax/2.7.5/MathJax.js?config=TeX-AMS-MML_SVG\"></script><script type=\"text/javascript\">if (window.MathJax && window.MathJax.Hub && window.MathJax.Hub.Config) {window.MathJax.Hub.Config({SVG: {font: \"STIX-Web\"}});}</script>                <script type=\"text/javascript\">window.PlotlyConfig = {MathJaxConfig: 'local'};</script>\n",
              "        <script charset=\"utf-8\" src=\"https://cdn.plot.ly/plotly-2.35.2.min.js\"></script>                <div id=\"cf3a7d99-c7b4-49ed-934c-d0c0095a6d81\" class=\"plotly-graph-div\" style=\"height:525px; width:100%;\"></div>            <script type=\"text/javascript\">                                    window.PLOTLYENV=window.PLOTLYENV || {};                                    if (document.getElementById(\"cf3a7d99-c7b4-49ed-934c-d0c0095a6d81\")) {                    Plotly.newPlot(                        \"cf3a7d99-c7b4-49ed-934c-d0c0095a6d81\",                        [{\"name\":\"GDP Growth\",\"x\":[\"2007-09-30T00:00:00\",\"2007-12-31T00:00:00\",\"2008-03-31T00:00:00\",\"2008-06-30T00:00:00\",\"2008-09-30T00:00:00\",\"2008-12-31T00:00:00\",\"2009-03-31T00:00:00\",\"2009-06-30T00:00:00\",\"2009-09-30T00:00:00\",\"2009-12-31T00:00:00\",\"2010-03-31T00:00:00\",\"2010-06-30T00:00:00\",\"2010-09-30T00:00:00\",\"2010-12-31T00:00:00\",\"2011-03-31T00:00:00\",\"2011-06-30T00:00:00\",\"2011-09-30T00:00:00\",\"2011-12-31T00:00:00\",\"2012-03-31T00:00:00\",\"2012-06-30T00:00:00\",\"2012-09-30T00:00:00\",\"2012-12-31T00:00:00\",\"2013-03-31T00:00:00\",\"2013-06-30T00:00:00\",\"2013-09-30T00:00:00\",\"2013-12-31T00:00:00\",\"2014-03-31T00:00:00\",\"2014-06-30T00:00:00\",\"2014-09-30T00:00:00\",\"2014-12-31T00:00:00\",\"2015-03-31T00:00:00\",\"2015-06-30T00:00:00\",\"2015-09-30T00:00:00\",\"2015-12-31T00:00:00\",\"2016-03-31T00:00:00\",\"2016-06-30T00:00:00\",\"2016-09-30T00:00:00\",\"2016-12-31T00:00:00\",\"2017-03-31T00:00:00\",\"2017-06-30T00:00:00\",\"2017-09-30T00:00:00\",\"2017-12-31T00:00:00\",\"2018-03-31T00:00:00\",\"2018-06-30T00:00:00\",\"2018-09-30T00:00:00\",\"2018-12-31T00:00:00\",\"2019-03-31T00:00:00\",\"2019-06-30T00:00:00\",\"2019-09-30T00:00:00\",\"2019-12-31T00:00:00\",\"2020-03-31T00:00:00\",\"2020-06-30T00:00:00\",\"2020-09-30T00:00:00\",\"2020-12-31T00:00:00\",\"2021-03-31T00:00:00\",\"2021-06-30T00:00:00\",\"2021-09-30T00:00:00\",\"2021-12-31T00:00:00\",\"2022-03-31T00:00:00\",\"2022-06-30T00:00:00\",\"2022-09-30T00:00:00\",\"2022-12-31T00:00:00\",\"2023-03-31T00:00:00\",\"2023-06-30T00:00:00\",\"2023-09-30T00:00:00\",\"2023-12-31T00:00:00\",\"2024-03-31T00:00:00\",\"2024-06-30T00:00:00\",\"2024-09-30T00:00:00\"],\"y\":[10.84158416,11.42435818,10.14555362,10.53228951,9.579498402,6.484208604,2.594043983,-0.733583673,-0.10054479,2.728255331,5.482427184,9.415315464,9.569320606,8.667805338,8.413848901,5.284628592,5.811549511,6.014240397,6.110652705,5.894266942,7.020488315,5.556921084,4.978087957,6.263889574,5.226645464,6.844359568,4.955895437,1.959439128,1.823199583,1.067684337,1.928718024,3.173985246,3.155730112,4.621146887,4.487465016,3.743442463,4.611851767,3.054750187,2.295453486,2.643682434,2.807402115,2.322655595,3.127698227,5.588729188,2.477586936,4.651280018,2.436271553,1.169576152,3.363625765,2.006436132,-3.927511997,-29.93635305,-8.820077879,-1.349605818,4.505739307,42.035076,11.62550311,3.427048485,3.838234033,3.4173363012217,2.04958596750706,2.01492829502384,-0.134584907481559,-0.462385158837459,-0.683925853878113,-0.317168720204458,1.40817412474265,3.63270283967193,3.80365599443122],\"type\":\"scatter\",\"xaxis\":\"x\",\"yaxis\":\"y2\"},{\"name\":\"Estimated GDP Growth\",\"x\":[\"2007-09-30T00:00:00\",\"2007-12-31T00:00:00\",\"2008-03-31T00:00:00\",\"2008-06-30T00:00:00\",\"2008-09-30T00:00:00\",\"2008-12-31T00:00:00\",\"2009-03-31T00:00:00\",\"2009-06-30T00:00:00\",\"2009-09-30T00:00:00\",\"2009-12-31T00:00:00\",\"2010-03-31T00:00:00\",\"2010-06-30T00:00:00\",\"2010-09-30T00:00:00\",\"2010-12-31T00:00:00\",\"2011-03-31T00:00:00\",\"2011-06-30T00:00:00\",\"2011-09-30T00:00:00\",\"2011-12-31T00:00:00\",\"2012-03-31T00:00:00\",\"2012-06-30T00:00:00\",\"2012-09-30T00:00:00\",\"2012-12-31T00:00:00\",\"2013-03-31T00:00:00\",\"2013-06-30T00:00:00\",\"2013-09-30T00:00:00\",\"2013-12-31T00:00:00\",\"2014-03-31T00:00:00\",\"2014-06-30T00:00:00\",\"2014-09-30T00:00:00\",\"2014-12-31T00:00:00\",\"2015-03-31T00:00:00\",\"2015-06-30T00:00:00\",\"2015-09-30T00:00:00\",\"2015-12-31T00:00:00\",\"2016-03-31T00:00:00\",\"2016-06-30T00:00:00\",\"2016-09-30T00:00:00\",\"2016-12-31T00:00:00\",\"2017-03-31T00:00:00\",\"2017-06-30T00:00:00\",\"2017-09-30T00:00:00\",\"2017-12-31T00:00:00\",\"2018-03-31T00:00:00\",\"2018-06-30T00:00:00\",\"2018-09-30T00:00:00\",\"2018-12-31T00:00:00\",\"2019-03-31T00:00:00\",\"2019-06-30T00:00:00\",\"2019-09-30T00:00:00\",\"2019-12-31T00:00:00\",\"2020-03-31T00:00:00\",\"2020-06-30T00:00:00\",\"2020-09-30T00:00:00\",\"2020-12-31T00:00:00\",\"2021-03-31T00:00:00\",\"2021-06-30T00:00:00\",\"2021-09-30T00:00:00\",\"2021-12-31T00:00:00\",\"2022-03-31T00:00:00\",\"2022-06-30T00:00:00\",\"2022-09-30T00:00:00\",\"2022-12-31T00:00:00\",\"2023-03-31T00:00:00\",\"2023-06-30T00:00:00\",\"2023-09-30T00:00:00\",\"2023-12-31T00:00:00\",\"2024-03-31T00:00:00\",\"2024-06-30T00:00:00\",\"2024-09-30T00:00:00\"],\"y\":[9.929194270119066,13.178743117068496,10.385299516926262,10.719872957648061,9.197443814685217,5.258491325927866,1.2149768177279407,-0.19622262063980583,-0.7245291196771506,3.4370593974416823,6.913641756935577,9.347978087137385,9.412090986003117,8.396965333782651,8.814864084670404,8.793142251767492,9.210047857469695,8.541644770358433,6.943766125853754,5.784035008166826,5.877916839317943,5.576386612691573,5.434208467442677,6.754082757368491,6.225175867960468,5.889173197170689,6.286258270104559,5.21478169926421,4.893054695308917,4.884857090825098,4.777777964402011,5.487738588538227,6.325928501610029,9.18770324487609,11.673795864544527,8.198309220207321,8.008970447483915,6.0558408488796145,2.1111107431727207,3.09359520867617,2.340170476961743,0.5567559228993395,1.9523718483707253,3.94629255787215,2.9907788947415024,5.901526523207335,5.6804620601642135,3.8657336616082447,3.9637450118513,2.6439172277839993,-1.6170566843378076,-22.514158080639497,-3.5159399441575445,-0.4100771760778791,2.4486876641675805,30.464922302311013,6.996017604958118,2.999516436628362,3.371230093612629,2.8044380253160415,4.729904353244054,6.054632594825218,5.67815945947696,6.472416731211854,3.217267148425489,1.4570900888692244,3.684188138682611,1.4659638095896241,2.1979216966879136],\"type\":\"scatter\",\"xaxis\":\"x\",\"yaxis\":\"y2\"},{\"name\":\"Residuals\",\"x\":[\"2007-09-30T00:00:00\",\"2007-12-31T00:00:00\",\"2008-03-31T00:00:00\",\"2008-06-30T00:00:00\",\"2008-09-30T00:00:00\",\"2008-12-31T00:00:00\",\"2009-03-31T00:00:00\",\"2009-06-30T00:00:00\",\"2009-09-30T00:00:00\",\"2009-12-31T00:00:00\",\"2010-03-31T00:00:00\",\"2010-06-30T00:00:00\",\"2010-09-30T00:00:00\",\"2010-12-31T00:00:00\",\"2011-03-31T00:00:00\",\"2011-06-30T00:00:00\",\"2011-09-30T00:00:00\",\"2011-12-31T00:00:00\",\"2012-03-31T00:00:00\",\"2012-06-30T00:00:00\",\"2012-09-30T00:00:00\",\"2012-12-31T00:00:00\",\"2013-03-31T00:00:00\",\"2013-06-30T00:00:00\",\"2013-09-30T00:00:00\",\"2013-12-31T00:00:00\",\"2014-03-31T00:00:00\",\"2014-06-30T00:00:00\",\"2014-09-30T00:00:00\",\"2014-12-31T00:00:00\",\"2015-03-31T00:00:00\",\"2015-06-30T00:00:00\",\"2015-09-30T00:00:00\",\"2015-12-31T00:00:00\",\"2016-03-31T00:00:00\",\"2016-06-30T00:00:00\",\"2016-09-30T00:00:00\",\"2016-12-31T00:00:00\",\"2017-03-31T00:00:00\",\"2017-06-30T00:00:00\",\"2017-09-30T00:00:00\",\"2017-12-31T00:00:00\",\"2018-03-31T00:00:00\",\"2018-06-30T00:00:00\",\"2018-09-30T00:00:00\",\"2018-12-31T00:00:00\",\"2019-03-31T00:00:00\",\"2019-06-30T00:00:00\",\"2019-09-30T00:00:00\",\"2019-12-31T00:00:00\",\"2020-03-31T00:00:00\",\"2020-06-30T00:00:00\",\"2020-09-30T00:00:00\",\"2020-12-31T00:00:00\",\"2021-03-31T00:00:00\",\"2021-06-30T00:00:00\",\"2021-09-30T00:00:00\",\"2021-12-31T00:00:00\",\"2022-03-31T00:00:00\",\"2022-06-30T00:00:00\",\"2022-09-30T00:00:00\",\"2022-12-31T00:00:00\",\"2023-03-31T00:00:00\",\"2023-06-30T00:00:00\",\"2023-09-30T00:00:00\",\"2023-12-31T00:00:00\",\"2024-03-31T00:00:00\",\"2024-06-30T00:00:00\",\"2024-09-30T00:00:00\"],\"y\":[0.9123898898809344,-1.7543849370684956,-0.23974589692626225,-0.1875834476480609,0.3820545873147836,1.2257172780721337,1.3790671652720594,-0.5373610523601942,0.6239843296771506,-0.7088040664416821,-1.431214572935577,0.06733737686261598,0.15722961999688323,0.2708400042173498,-0.40101518367040434,-3.508513659767492,-3.3984983464696947,-2.527404373358433,-0.8331134208537545,0.11023193383317409,1.1425714756820566,-0.019465528691573475,-0.45612051044267776,-0.4901931833684907,-0.9985304039604683,0.9551863708293107,-1.3303628331045596,-3.2553425712642103,-3.0698551123089173,-3.8171727538250977,-2.849059940402011,-2.3137533425382273,-3.170198389610029,-4.56655635787609,-7.186330848544527,-4.454866757207321,-3.3971186804839144,-3.0010906618796147,0.18434274282727925,-0.4499127746761702,0.46723163803825685,1.7658996721006606,1.175326378629275,1.6424366301278503,-0.5131919587415026,-1.2502465052073353,-3.2441905071642134,-2.696157509608245,-0.6001192468512997,-0.6374810957839991,-2.3104553126621923,-7.422194969360504,-5.304137934842455,-0.9395286419221208,2.0570516428324193,11.570153697688983,4.629485505041882,0.4275320483716376,0.46700393938737106,0.6128982759056587,-2.680318385736994,-4.039704299801379,-5.812744366958519,-6.934801890049313,-3.901193002303602,-1.7742588090736824,-2.276014013939961,2.1667390300823057,1.6057342977433064],\"type\":\"bar\",\"xaxis\":\"x\",\"yaxis\":\"y\"}],                        {\"template\":{\"data\":{\"barpolar\":[{\"marker\":{\"line\":{\"color\":\"white\",\"width\":0.5},\"pattern\":{\"fillmode\":\"overlay\",\"size\":10,\"solidity\":0.2}},\"type\":\"barpolar\"}],\"bar\":[{\"error_x\":{\"color\":\"rgb(36,36,36)\"},\"error_y\":{\"color\":\"rgb(36,36,36)\"},\"marker\":{\"line\":{\"color\":\"white\",\"width\":0.5},\"pattern\":{\"fillmode\":\"overlay\",\"size\":10,\"solidity\":0.2}},\"type\":\"bar\"}],\"carpet\":[{\"aaxis\":{\"endlinecolor\":\"rgb(36,36,36)\",\"gridcolor\":\"white\",\"linecolor\":\"white\",\"minorgridcolor\":\"white\",\"startlinecolor\":\"rgb(36,36,36)\"},\"baxis\":{\"endlinecolor\":\"rgb(36,36,36)\",\"gridcolor\":\"white\",\"linecolor\":\"white\",\"minorgridcolor\":\"white\",\"startlinecolor\":\"rgb(36,36,36)\"},\"type\":\"carpet\"}],\"choropleth\":[{\"colorbar\":{\"outlinewidth\":1,\"tickcolor\":\"rgb(36,36,36)\",\"ticks\":\"outside\"},\"type\":\"choropleth\"}],\"contourcarpet\":[{\"colorbar\":{\"outlinewidth\":1,\"tickcolor\":\"rgb(36,36,36)\",\"ticks\":\"outside\"},\"type\":\"contourcarpet\"}],\"contour\":[{\"colorbar\":{\"outlinewidth\":1,\"tickcolor\":\"rgb(36,36,36)\",\"ticks\":\"outside\"},\"colorscale\":[[0.0,\"#440154\"],[0.1111111111111111,\"#482878\"],[0.2222222222222222,\"#3e4989\"],[0.3333333333333333,\"#31688e\"],[0.4444444444444444,\"#26828e\"],[0.5555555555555556,\"#1f9e89\"],[0.6666666666666666,\"#35b779\"],[0.7777777777777778,\"#6ece58\"],[0.8888888888888888,\"#b5de2b\"],[1.0,\"#fde725\"]],\"type\":\"contour\"}],\"heatmapgl\":[{\"colorbar\":{\"outlinewidth\":1,\"tickcolor\":\"rgb(36,36,36)\",\"ticks\":\"outside\"},\"colorscale\":[[0.0,\"#440154\"],[0.1111111111111111,\"#482878\"],[0.2222222222222222,\"#3e4989\"],[0.3333333333333333,\"#31688e\"],[0.4444444444444444,\"#26828e\"],[0.5555555555555556,\"#1f9e89\"],[0.6666666666666666,\"#35b779\"],[0.7777777777777778,\"#6ece58\"],[0.8888888888888888,\"#b5de2b\"],[1.0,\"#fde725\"]],\"type\":\"heatmapgl\"}],\"heatmap\":[{\"colorbar\":{\"outlinewidth\":1,\"tickcolor\":\"rgb(36,36,36)\",\"ticks\":\"outside\"},\"colorscale\":[[0.0,\"#440154\"],[0.1111111111111111,\"#482878\"],[0.2222222222222222,\"#3e4989\"],[0.3333333333333333,\"#31688e\"],[0.4444444444444444,\"#26828e\"],[0.5555555555555556,\"#1f9e89\"],[0.6666666666666666,\"#35b779\"],[0.7777777777777778,\"#6ece58\"],[0.8888888888888888,\"#b5de2b\"],[1.0,\"#fde725\"]],\"type\":\"heatmap\"}],\"histogram2dcontour\":[{\"colorbar\":{\"outlinewidth\":1,\"tickcolor\":\"rgb(36,36,36)\",\"ticks\":\"outside\"},\"colorscale\":[[0.0,\"#440154\"],[0.1111111111111111,\"#482878\"],[0.2222222222222222,\"#3e4989\"],[0.3333333333333333,\"#31688e\"],[0.4444444444444444,\"#26828e\"],[0.5555555555555556,\"#1f9e89\"],[0.6666666666666666,\"#35b779\"],[0.7777777777777778,\"#6ece58\"],[0.8888888888888888,\"#b5de2b\"],[1.0,\"#fde725\"]],\"type\":\"histogram2dcontour\"}],\"histogram2d\":[{\"colorbar\":{\"outlinewidth\":1,\"tickcolor\":\"rgb(36,36,36)\",\"ticks\":\"outside\"},\"colorscale\":[[0.0,\"#440154\"],[0.1111111111111111,\"#482878\"],[0.2222222222222222,\"#3e4989\"],[0.3333333333333333,\"#31688e\"],[0.4444444444444444,\"#26828e\"],[0.5555555555555556,\"#1f9e89\"],[0.6666666666666666,\"#35b779\"],[0.7777777777777778,\"#6ece58\"],[0.8888888888888888,\"#b5de2b\"],[1.0,\"#fde725\"]],\"type\":\"histogram2d\"}],\"histogram\":[{\"marker\":{\"line\":{\"color\":\"white\",\"width\":0.6}},\"type\":\"histogram\"}],\"mesh3d\":[{\"colorbar\":{\"outlinewidth\":1,\"tickcolor\":\"rgb(36,36,36)\",\"ticks\":\"outside\"},\"type\":\"mesh3d\"}],\"parcoords\":[{\"line\":{\"colorbar\":{\"outlinewidth\":1,\"tickcolor\":\"rgb(36,36,36)\",\"ticks\":\"outside\"}},\"type\":\"parcoords\"}],\"pie\":[{\"automargin\":true,\"type\":\"pie\"}],\"scatter3d\":[{\"line\":{\"colorbar\":{\"outlinewidth\":1,\"tickcolor\":\"rgb(36,36,36)\",\"ticks\":\"outside\"}},\"marker\":{\"colorbar\":{\"outlinewidth\":1,\"tickcolor\":\"rgb(36,36,36)\",\"ticks\":\"outside\"}},\"type\":\"scatter3d\"}],\"scattercarpet\":[{\"marker\":{\"colorbar\":{\"outlinewidth\":1,\"tickcolor\":\"rgb(36,36,36)\",\"ticks\":\"outside\"}},\"type\":\"scattercarpet\"}],\"scattergeo\":[{\"marker\":{\"colorbar\":{\"outlinewidth\":1,\"tickcolor\":\"rgb(36,36,36)\",\"ticks\":\"outside\"}},\"type\":\"scattergeo\"}],\"scattergl\":[{\"marker\":{\"colorbar\":{\"outlinewidth\":1,\"tickcolor\":\"rgb(36,36,36)\",\"ticks\":\"outside\"}},\"type\":\"scattergl\"}],\"scattermapbox\":[{\"marker\":{\"colorbar\":{\"outlinewidth\":1,\"tickcolor\":\"rgb(36,36,36)\",\"ticks\":\"outside\"}},\"type\":\"scattermapbox\"}],\"scatterpolargl\":[{\"marker\":{\"colorbar\":{\"outlinewidth\":1,\"tickcolor\":\"rgb(36,36,36)\",\"ticks\":\"outside\"}},\"type\":\"scatterpolargl\"}],\"scatterpolar\":[{\"marker\":{\"colorbar\":{\"outlinewidth\":1,\"tickcolor\":\"rgb(36,36,36)\",\"ticks\":\"outside\"}},\"type\":\"scatterpolar\"}],\"scatter\":[{\"fillpattern\":{\"fillmode\":\"overlay\",\"size\":10,\"solidity\":0.2},\"type\":\"scatter\"}],\"scatterternary\":[{\"marker\":{\"colorbar\":{\"outlinewidth\":1,\"tickcolor\":\"rgb(36,36,36)\",\"ticks\":\"outside\"}},\"type\":\"scatterternary\"}],\"surface\":[{\"colorbar\":{\"outlinewidth\":1,\"tickcolor\":\"rgb(36,36,36)\",\"ticks\":\"outside\"},\"colorscale\":[[0.0,\"#440154\"],[0.1111111111111111,\"#482878\"],[0.2222222222222222,\"#3e4989\"],[0.3333333333333333,\"#31688e\"],[0.4444444444444444,\"#26828e\"],[0.5555555555555556,\"#1f9e89\"],[0.6666666666666666,\"#35b779\"],[0.7777777777777778,\"#6ece58\"],[0.8888888888888888,\"#b5de2b\"],[1.0,\"#fde725\"]],\"type\":\"surface\"}],\"table\":[{\"cells\":{\"fill\":{\"color\":\"rgb(237,237,237)\"},\"line\":{\"color\":\"white\"}},\"header\":{\"fill\":{\"color\":\"rgb(217,217,217)\"},\"line\":{\"color\":\"white\"}},\"type\":\"table\"}]},\"layout\":{\"annotationdefaults\":{\"arrowhead\":0,\"arrowwidth\":1},\"autotypenumbers\":\"strict\",\"coloraxis\":{\"colorbar\":{\"outlinewidth\":1,\"tickcolor\":\"rgb(36,36,36)\",\"ticks\":\"outside\"}},\"colorscale\":{\"diverging\":[[0.0,\"rgb(103,0,31)\"],[0.1,\"rgb(178,24,43)\"],[0.2,\"rgb(214,96,77)\"],[0.3,\"rgb(244,165,130)\"],[0.4,\"rgb(253,219,199)\"],[0.5,\"rgb(247,247,247)\"],[0.6,\"rgb(209,229,240)\"],[0.7,\"rgb(146,197,222)\"],[0.8,\"rgb(67,147,195)\"],[0.9,\"rgb(33,102,172)\"],[1.0,\"rgb(5,48,97)\"]],\"sequential\":[[0.0,\"#440154\"],[0.1111111111111111,\"#482878\"],[0.2222222222222222,\"#3e4989\"],[0.3333333333333333,\"#31688e\"],[0.4444444444444444,\"#26828e\"],[0.5555555555555556,\"#1f9e89\"],[0.6666666666666666,\"#35b779\"],[0.7777777777777778,\"#6ece58\"],[0.8888888888888888,\"#b5de2b\"],[1.0,\"#fde725\"]],\"sequentialminus\":[[0.0,\"#440154\"],[0.1111111111111111,\"#482878\"],[0.2222222222222222,\"#3e4989\"],[0.3333333333333333,\"#31688e\"],[0.4444444444444444,\"#26828e\"],[0.5555555555555556,\"#1f9e89\"],[0.6666666666666666,\"#35b779\"],[0.7777777777777778,\"#6ece58\"],[0.8888888888888888,\"#b5de2b\"],[1.0,\"#fde725\"]]},\"colorway\":[\"#1F77B4\",\"#FF7F0E\",\"#2CA02C\",\"#D62728\",\"#9467BD\",\"#8C564B\",\"#E377C2\",\"#7F7F7F\",\"#BCBD22\",\"#17BECF\"],\"font\":{\"color\":\"rgb(36,36,36)\"},\"geo\":{\"bgcolor\":\"white\",\"lakecolor\":\"white\",\"landcolor\":\"white\",\"showlakes\":true,\"showland\":true,\"subunitcolor\":\"white\"},\"hoverlabel\":{\"align\":\"left\"},\"hovermode\":\"closest\",\"mapbox\":{\"style\":\"light\"},\"paper_bgcolor\":\"white\",\"plot_bgcolor\":\"white\",\"polar\":{\"angularaxis\":{\"gridcolor\":\"rgb(232,232,232)\",\"linecolor\":\"rgb(36,36,36)\",\"showgrid\":false,\"showline\":true,\"ticks\":\"outside\"},\"bgcolor\":\"white\",\"radialaxis\":{\"gridcolor\":\"rgb(232,232,232)\",\"linecolor\":\"rgb(36,36,36)\",\"showgrid\":false,\"showline\":true,\"ticks\":\"outside\"}},\"scene\":{\"xaxis\":{\"backgroundcolor\":\"white\",\"gridcolor\":\"rgb(232,232,232)\",\"gridwidth\":2,\"linecolor\":\"rgb(36,36,36)\",\"showbackground\":true,\"showgrid\":false,\"showline\":true,\"ticks\":\"outside\",\"zeroline\":false,\"zerolinecolor\":\"rgb(36,36,36)\"},\"yaxis\":{\"backgroundcolor\":\"white\",\"gridcolor\":\"rgb(232,232,232)\",\"gridwidth\":2,\"linecolor\":\"rgb(36,36,36)\",\"showbackground\":true,\"showgrid\":false,\"showline\":true,\"ticks\":\"outside\",\"zeroline\":false,\"zerolinecolor\":\"rgb(36,36,36)\"},\"zaxis\":{\"backgroundcolor\":\"white\",\"gridcolor\":\"rgb(232,232,232)\",\"gridwidth\":2,\"linecolor\":\"rgb(36,36,36)\",\"showbackground\":true,\"showgrid\":false,\"showline\":true,\"ticks\":\"outside\",\"zeroline\":false,\"zerolinecolor\":\"rgb(36,36,36)\"}},\"shapedefaults\":{\"fillcolor\":\"black\",\"line\":{\"width\":0},\"opacity\":0.3},\"ternary\":{\"aaxis\":{\"gridcolor\":\"rgb(232,232,232)\",\"linecolor\":\"rgb(36,36,36)\",\"showgrid\":false,\"showline\":true,\"ticks\":\"outside\"},\"baxis\":{\"gridcolor\":\"rgb(232,232,232)\",\"linecolor\":\"rgb(36,36,36)\",\"showgrid\":false,\"showline\":true,\"ticks\":\"outside\"},\"bgcolor\":\"white\",\"caxis\":{\"gridcolor\":\"rgb(232,232,232)\",\"linecolor\":\"rgb(36,36,36)\",\"showgrid\":false,\"showline\":true,\"ticks\":\"outside\"}},\"title\":{\"x\":0.05},\"xaxis\":{\"automargin\":true,\"gridcolor\":\"rgb(232,232,232)\",\"linecolor\":\"rgb(36,36,36)\",\"showgrid\":false,\"showline\":true,\"ticks\":\"outside\",\"title\":{\"standoff\":15},\"zeroline\":false,\"zerolinecolor\":\"rgb(36,36,36)\"},\"yaxis\":{\"automargin\":true,\"gridcolor\":\"rgb(232,232,232)\",\"linecolor\":\"rgb(36,36,36)\",\"showgrid\":false,\"showline\":true,\"ticks\":\"outside\",\"title\":{\"standoff\":15},\"zeroline\":false,\"zerolinecolor\":\"rgb(36,36,36)\"}}},\"xaxis\":{\"anchor\":\"y\",\"domain\":[0.0,0.94]},\"yaxis\":{\"anchor\":\"x\",\"domain\":[0.0,1.0],\"title\":{\"text\":\"\\u003cb\\u003eResiduals\\u003c\\u002fb\\u003e (%)\"}},\"yaxis2\":{\"anchor\":\"x\",\"overlaying\":\"y\",\"side\":\"right\",\"title\":{\"text\":\"\\u003cb\\u003eGDP growth and GDP growth estimated\\u003c\\u002fb\\u003e (%)\"}},\"title\":{\"text\":\"Nowcasting: Peruvian GDP growth rate\"},\"legend\":{\"orientation\":\"h\",\"yanchor\":\"bottom\",\"y\":-0.2,\"xanchor\":\"center\",\"x\":0.5}},                        {\"responsive\": true}                    ).then(function(){\n",
              "                            \n",
              "var gd = document.getElementById('cf3a7d99-c7b4-49ed-934c-d0c0095a6d81');\n",
              "var x = new MutationObserver(function (mutations, observer) {{\n",
              "        var display = window.getComputedStyle(gd).display;\n",
              "        if (!display || display === 'none') {{\n",
              "            console.log([gd, 'removed!']);\n",
              "            Plotly.purge(gd);\n",
              "            observer.disconnect();\n",
              "        }}\n",
              "}});\n",
              "\n",
              "// Listen for the removal of the full notebook cells\n",
              "var notebookContainer = gd.closest('#notebook-container');\n",
              "if (notebookContainer) {{\n",
              "    x.observe(notebookContainer, {childList: true});\n",
              "}}\n",
              "\n",
              "// Listen for the clearing of the current output cell\n",
              "var outputEl = gd.closest('.output');\n",
              "if (outputEl) {{\n",
              "    x.observe(outputEl, {childList: true});\n",
              "}}\n",
              "\n",
              "                        })                };                            </script>        </div>\n",
              "</body>\n",
              "</html>"
            ]
          },
          "metadata": {}
        }
      ]
    },
    {
      "cell_type": "code",
      "source": [],
      "metadata": {
        "id": "8YMnUDdFS8uQ"
      },
      "id": "8YMnUDdFS8uQ",
      "execution_count": 268,
      "outputs": []
    },
    {
      "cell_type": "markdown",
      "source": [
        "### Prediction\n",
        "\n"
      ],
      "metadata": {
        "id": "o4wbmMrpuVcN"
      },
      "id": "o4wbmMrpuVcN"
    },
    {
      "cell_type": "code",
      "source": [
        "import numpy as np\n",
        "\n",
        "# Function to calculate Theil's U\n",
        "def theil_u(actual, predicted):\n",
        "    numerator = np.sqrt(np.mean((actual - predicted) ** 2))\n",
        "    denominator = np.sqrt(np.mean(actual ** 2)) + np.sqrt(np.mean(predicted ** 2))\n",
        "    return numerator / denominator\n",
        "\n",
        "# Calculate known predictions\n",
        "predictions = best_model.predict(start=0, end=len(y) - 1, exog=x, dynamic=False)\n",
        "\n",
        "# Calculate Theil's U\n",
        "u_theil = theil_u(y, predictions)\n",
        "print(f\"Theil's U: {u_theil:.4f}\")\n",
        "\n",
        "# Interpretation\n",
        "if u_theil < 1:\n",
        "    print(\"The model predicts better than the naive model.\")\n",
        "elif u_theil == 1:\n",
        "    print(\"The model is as good as the naive model.\")\n",
        "else:\n",
        "    print(\"The model is worse than the naive model.\")\n"
      ],
      "metadata": {
        "colab": {
          "base_uri": "https://localhost:8080/"
        },
        "id": "n60bFjZbuUVy",
        "outputId": "8dd15ee5-d74a-4901-d2b9-acf33456e37c"
      },
      "id": "n60bFjZbuUVy",
      "execution_count": 269,
      "outputs": [
        {
          "output_type": "stream",
          "name": "stdout",
          "text": [
            "Theil's U: 0.1102\n",
            "The model predicts better than the naive model.\n"
          ]
        }
      ]
    },
    {
      "cell_type": "markdown",
      "source": [],
      "metadata": {
        "id": "doDvE6PxC0G3"
      },
      "id": "doDvE6PxC0G3"
    },
    {
      "cell_type": "markdown",
      "source": [
        "# References\n",
        "\n",
        "- **Bok, B., Caratelli, D., Giannone, D., Sbordone, A., & Tambalotti, A. (2018).**  \n",
        "  *Macroeconomic Nowcasting and Forecasting with Big Data.*  \n",
        "  *Annual Review Of Economics,* 10(1), 615-643.  \n",
        "  [https://doi.org/10.1146/annurev-economics-080217-053214](https://doi.org/10.1146/annurev-economics-080217-053214)\n",
        "\n",
        "- **Bragoli, D. (2017).**  \n",
        "  *Now-casting the Japanese economy.*  \n",
        "  *International Journal Of Forecasting,* 33(2), 390-402.  \n",
        "  [https://doi.org/10.1016/j.ijforecast.2016.11.004](https://doi.org/10.1016/j.ijforecast.2016.11.004)\n",
        "\n",
        "- **Bragoli, D., & Modugno, M. (2017).**  \n",
        "  *A now-casting model for Canada: Do U.S. variables matter?*  \n",
        "  *International Journal Of Forecasting,* 33(4), 786-800.  \n",
        "  [https://doi.org/10.1016/j.ijforecast.2017.03.002](https://doi.org/10.1016/j.ijforecast.2017.03.002)\n",
        "\n",
        "- **Bragoli, D., Metelli, L., & Modugno, M. (2014).**  \n",
        "  *The Importance of Updating: Evidence from a Brazilian Nowcasting Model.*  \n",
        "  *SSRN Electronic Journal.*  \n",
        "  [https://doi.org/10.2139/ssrn.2529168](https://doi.org/10.2139/ssrn.2529168)\n",
        "\n",
        "- **Evans, M. (2005).**  \n",
        "  *Where Are We Now? Real-Time Estimates of the Macro Economy.*  \n",
        "  *SSRN Electronic Journal.*  \n",
        "  [https://doi.org/10.2139/ssrn.646103](https://doi.org/10.2139/ssrn.646103)\n",
        "\n",
        "- **Giannone, D., Reichlin, L., & Small, D. (2008).**  \n",
        "  *Nowcasting: The real-time informational content of macroeconomic data.*  \n",
        "  *Journal Of Monetary Economics,* 55(4), 665-676.  \n",
        "  [https://doi.org/10.1016/j.jmoneco.2008.05.010](https://doi.org/10.1016/j.jmoneco.2008.05.010)\n",
        "\n",
        "- **Raftery, A., Madigan, D., & Hoeting, J. (1997).**  \n",
        "  *Bayesian Model Averaging for Linear Regression Models.*  \n",
        "  *Journal Of The American Statistical Association,* 92(437), 179-191.  \n",
        "  [https://doi.org/10.1080/01621459.1997.10473615](https://doi.org/10.1080/01621459.1997.10473615)\n",
        "\n",
        "- **Scott, S., & Varian, H. (2014).**  \n",
        "  *Predicting the present with Bayesian structural time series.*  \n",
        "  *International Journal Of Mathematical Modelling And Numerical Optimisation,* 5(1/2), 4.  \n",
        "  [https://doi.org/10.1504/ijmmno.2014.059942](https://doi.org/10.1504/ijmmno.2014.059942)\n",
        "\n",
        "- **Box, G. E. P., & Jenkins, G. M. (1976).**  \n",
        "  *Time series analysis forecasting and control - rev. ed.*  \n",
        "  Oakland, California, Holden-Day, 1976, 37(2), 238-242.\n"
      ],
      "metadata": {
        "id": "990NplAPCywp"
      },
      "id": "990NplAPCywp"
    }
  ],
  "metadata": {
    "kernelspec": {
      "display_name": "Python 3 (ipykernel)",
      "language": "python",
      "name": "python3"
    },
    "language_info": {
      "codemirror_mode": {
        "name": "ipython",
        "version": 3
      },
      "file_extension": ".py",
      "mimetype": "text/x-python",
      "name": "python",
      "nbconvert_exporter": "python",
      "pygments_lexer": "ipython3",
      "version": "3.11.4"
    },
    "colab": {
      "provenance": [],
      "toc_visible": true,
      "include_colab_link": true
    }
  },
  "nbformat": 4,
  "nbformat_minor": 5
}